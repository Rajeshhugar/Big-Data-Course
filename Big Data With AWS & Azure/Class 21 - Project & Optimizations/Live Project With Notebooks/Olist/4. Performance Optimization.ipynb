{
 "cells": [
  {
   "cell_type": "markdown",
   "id": "de14fe5c-a01f-42b4-b307-dba2d219d6e3",
   "metadata": {},
   "source": [
    "# Key Considerations for Your Dataproc Cluster\n",
    "\n",
    "1\\. Cluster Resources:\n",
    "\n",
    "- Master: n2-standard-4 (4 vCPUs, 16 GB RAM, 32GB disk)\n",
    "\n",
    "- Workers (2x): n2-standard-4 (4 vCPUs, 16 GB RAM, 64GB disk each)\n",
    "\n",
    "- Total: 8 worker vCPUs, ~32 GB RAM (excluding master node)\n",
    "\n",
    "2\\. Dataproc Features Disabled:\n",
    "\n",
    "- No autoscaling, Metastore, advanced execution layer, advanced optimizations\n",
    "\n",
    "- Storage: pd-balanced (no SSDs, so I/O optimization is crucial)\n",
    "\n",
    "- Networking: Internal IP enabled\n",
    "\n",
    "3\\. Optimization Strategy:\n",
    "\n",
    "- Tune shuffle partitions, broadcast join threshold, and storage persistence\n",
    "\n",
    "- Adjust parallelism based on 2 workers x 4 cores\n",
    "\n",
    "- Avoid excessive caching due to disk-based storage"
   ]
  },
  {
   "cell_type": "code",
   "execution_count": null,
   "id": "613a2775-499c-4dd7-b707-83a6b898abb7",
   "metadata": {},
   "outputs": [],
   "source": [
    "from pyspark.sql import SparkSession\n",
    "from pyspark import SparkConf\n",
    "\n",
    "# Create a SparkConf object and set the configurations\n",
    "conf = SparkConf().setAppName(\"OptimizedSparkConfig\") \\\n",
    "    .set(\"spark.executor.memory\", \"4g\") \\\n",
    "    .set(\"spark.executor.cores\", \"2\") \\\n",
    "    .set(\"spark.num.executors\", \"2\") \\\n",
    "    .set(\"spark.driver.memory\", \"4g\") \\\n",
    "    .set(\"spark.driver.cores\", \"1\") \\\n",
    "    .set(\"spark.sql.shuffle.partitions\", \"4\") \\\n",
    "    .set(\"spark.sql.files.maxPartitionBytes\", \"134217728\")  # 128MB\n",
    "    .set(\"spark.sql.files.openCostInBytes\", \"134217728\")  # 128MB\n",
    "    .set(\"spark.sql.files.cacheSize\", \"268435456\")  # 256MB\n",
    "    .set(\"spark.sql.files.maxPartitionBytes\", \"268435456\")  # 256MB\n",
    "    .set(\"spark.sql.optimizer.dynamicPartitionPruning\", \"true\")  # Enable dynamic partition pruning\n",
    "    .set(\"spark.sql.autoBroadcastJoinThreshold\", \"104857600\")  # 100MB for broadcast joins\n",
    "    .set(\"spark.sql.csv.compressionCodec\", \"org.apache.hadoop.io.compress.SnappyCodec\")  # Enable Snappy compression\n",
    "    .set(\"spark.sql.adaptive.enabled\", \"true\")  # Enable Adaptive Query Execution\n",
    "    .set(\"spark.sql.inMemoryColumnarStorage.batchSize\", \"10000\")  # Max batch size for in-memory storage\n",
    "    .set(\"spark.locality.wait\", \"3s\")  # Wait time for data locality\n",
    "    .set(\"spark.network.timeout\", \"800s\")  # Network timeout\n",
    "    .set(\"spark.executor.heartbeatInterval\", \"60s\")  # Executor heartbeat interval\n",
    "    .set(\"spark.eventLog.enabled\", \"false\")  # Disable event logging\n",
    "    .set(\"spark.history.fs.logDirectory\", \"gs://<your-bucket>/spark-events\")  # Optional: enable event logging\n",
    "\n",
    "# Initialize SparkSession with the configuration\n",
    "spark = SparkSession.builder.config(conf=conf).getOrCreate()\n",
    "\n",
    "# Now, you can use Spark as usual\n"
   ]
  },
  {
   "cell_type": "code",
   "execution_count": 1,
   "id": "1121e62e-4e58-41a2-bf32-defa571360f7",
   "metadata": {},
   "outputs": [],
   "source": [
    "# https://spark.apache.org/docs/latest/configuration.html"
   ]
  }
 ],
 "metadata": {
  "kernelspec": {
   "display_name": "Python 3",
   "language": "python",
   "name": "python3"
  },
  "language_info": {
   "codemirror_mode": {
    "name": "ipython",
    "version": 3
   },
   "file_extension": ".py",
   "mimetype": "text/x-python",
   "name": "python",
   "nbconvert_exporter": "python",
   "pygments_lexer": "ipython3",
   "version": "3.10.8"
  }
 },
 "nbformat": 4,
 "nbformat_minor": 5
}