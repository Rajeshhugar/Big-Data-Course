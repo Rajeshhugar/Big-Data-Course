{
 "cells": [
  {
   "cell_type": "code",
   "execution_count": 1,
   "id": "dd02c79f-66ca-45c2-a0ad-8c18f69d5c2c",
   "metadata": {},
   "outputs": [
    {
     "name": "stderr",
     "output_type": "stream",
     "text": [
      "25/03/09 03:02:36 WARN SparkSession: Using an existing Spark session; only runtime SQL configurations will take effect.\n",
      "                                                                                \r"
     ]
    }
   ],
   "source": [
    "from pyspark.sql import SparkSession\n",
    "\n",
    "spark = SparkSession.builder.appName('olist').getOrCreate()\n",
    "\n",
    "hdfs_path = '/olist_ka_data/'\n",
    "\n",
    "\n",
    "olist_customers_df = spark.read.csv(\"/olist_ka_data/olist_customers_dataset.csv\", header=True, inferSchema=True)\n",
    "olist_geolocation_df = spark.read.csv(\"/olist_ka_data/olist_geolocation_dataset.csv\", header=True, inferSchema=True)\n",
    "olist_order_items_df = spark.read.csv(\"/olist_ka_data/olist_order_items_dataset.csv\", header=True, inferSchema=True)\n",
    "olist_order_payments_df = spark.read.csv(\"/olist_ka_data/olist_order_payments_dataset.csv\", header=True, inferSchema=True)\n",
    "olist_order_reviews_df = spark.read.csv(\"/olist_ka_data/olist_order_reviews_dataset.csv\", header=True, inferSchema=True)\n",
    "olist_orders_df = spark.read.csv(\"/olist_ka_data/olist_orders_dataset.csv\", header=True, inferSchema=True)\n",
    "olist_products_df = spark.read.csv(\"/olist_ka_data/olist_products_dataset.csv\", header=True, inferSchema=True)\n",
    "olist_sellers_df = spark.read.csv(\"/olist_ka_data/olist_sellers_dataset.csv\", header=True, inferSchema=True)\n",
    "product_category_name_translation_df = spark.read.csv(\"/olist_ka_data/product_category_name_translation.csv\", header=True, inferSchema=True)\n"
   ]
  },
  {
   "cell_type": "code",
   "execution_count": 2,
   "id": "8f6fbe77-bffc-40ca-acb6-a8b190e032dc",
   "metadata": {},
   "outputs": [],
   "source": [
    "from pyspark.sql.functions import *"
   ]
  },
  {
   "cell_type": "code",
   "execution_count": 3,
   "id": "ca7f3d70-fd84-4567-bde9-8f42ed2c4c7f",
   "metadata": {},
   "outputs": [
    {
     "data": {
      "text/plain": [
       "DataFrame[order_id: string, customer_id: string, order_status: string, order_purchase_timestamp: timestamp, order_approved_at: timestamp, order_delivered_carrier_date: timestamp, order_delivered_customer_date: timestamp, order_estimated_delivery_date: timestamp]"
      ]
     },
     "execution_count": 3,
     "metadata": {},
     "output_type": "execute_result"
    }
   ],
   "source": [
    "olist_orders_df.cache()"
   ]
  },
  {
   "cell_type": "code",
   "execution_count": 4,
   "id": "a6cf3f80-7f81-4859-be16-c9acd3d2df27",
   "metadata": {},
   "outputs": [],
   "source": [
    "order_items_joined_df = olist_orders_df.join(olist_order_items_df,'order_id','inner')"
   ]
  },
  {
   "cell_type": "code",
   "execution_count": 5,
   "id": "951127df-1305-45bd-b13a-5fece17ceafe",
   "metadata": {},
   "outputs": [],
   "source": [
    "order_items_product_df = order_items_joined_df.join(olist_products_df,'product_id','inner')"
   ]
  },
  {
   "cell_type": "code",
   "execution_count": 6,
   "id": "dcfd7999-f496-4be7-af1e-2cdb2698ee25",
   "metadata": {},
   "outputs": [],
   "source": [
    "order_items_product_seller_df = order_items_product_df.join(olist_sellers_df,'seller_id','inner')"
   ]
  },
  {
   "cell_type": "code",
   "execution_count": 7,
   "id": "fb13660e-18d1-4888-95c6-78ff63f48f31",
   "metadata": {},
   "outputs": [],
   "source": [
    "full_orders_df = order_items_product_seller_df.join(olist_customers_df,'customer_id','inner')"
   ]
  },
  {
   "cell_type": "code",
   "execution_count": 8,
   "id": "abd9104f-08f6-4b59-814b-e3b43a390c2b",
   "metadata": {},
   "outputs": [],
   "source": [
    "full_orders_df = full_orders_df.join(olist_geolocation_df,full_orders_df.customer_zip_code_prefix ==olist_geolocation_df.geolocation_zip_code_prefix ,'inner')"
   ]
  },
  {
   "cell_type": "code",
   "execution_count": 9,
   "id": "6e6dd5cb-8377-4387-a812-0fe76758766f",
   "metadata": {},
   "outputs": [
    {
     "name": "stdout",
     "output_type": "stream",
     "text": [
      "root\n",
      " |-- customer_id: string (nullable = true)\n",
      " |-- seller_id: string (nullable = true)\n",
      " |-- product_id: string (nullable = true)\n",
      " |-- order_id: string (nullable = true)\n",
      " |-- order_status: string (nullable = true)\n",
      " |-- order_purchase_timestamp: timestamp (nullable = true)\n",
      " |-- order_approved_at: timestamp (nullable = true)\n",
      " |-- order_delivered_carrier_date: timestamp (nullable = true)\n",
      " |-- order_delivered_customer_date: timestamp (nullable = true)\n",
      " |-- order_estimated_delivery_date: timestamp (nullable = true)\n",
      " |-- order_item_id: integer (nullable = true)\n",
      " |-- shipping_limit_date: timestamp (nullable = true)\n",
      " |-- price: double (nullable = true)\n",
      " |-- freight_value: double (nullable = true)\n",
      " |-- product_category_name: string (nullable = true)\n",
      " |-- product_name_lenght: integer (nullable = true)\n",
      " |-- product_description_lenght: integer (nullable = true)\n",
      " |-- product_photos_qty: integer (nullable = true)\n",
      " |-- product_weight_g: integer (nullable = true)\n",
      " |-- product_length_cm: integer (nullable = true)\n",
      " |-- product_height_cm: integer (nullable = true)\n",
      " |-- product_width_cm: integer (nullable = true)\n",
      " |-- seller_zip_code_prefix: integer (nullable = true)\n",
      " |-- seller_city: string (nullable = true)\n",
      " |-- seller_state: string (nullable = true)\n",
      " |-- customer_unique_id: string (nullable = true)\n",
      " |-- customer_zip_code_prefix: integer (nullable = true)\n",
      " |-- customer_city: string (nullable = true)\n",
      " |-- customer_state: string (nullable = true)\n",
      " |-- geolocation_zip_code_prefix: integer (nullable = true)\n",
      " |-- geolocation_lat: double (nullable = true)\n",
      " |-- geolocation_lng: double (nullable = true)\n",
      " |-- geolocation_city: string (nullable = true)\n",
      " |-- geolocation_state: string (nullable = true)\n",
      "\n"
     ]
    }
   ],
   "source": [
    "full_orders_df.printSchema()"
   ]
  },
  {
   "cell_type": "code",
   "execution_count": 10,
   "id": "9969fcb1-a496-4968-b91c-857fd8399709",
   "metadata": {},
   "outputs": [],
   "source": [
    "full_orders_df= full_orders_df.join(broadcast(olist_order_reviews_df),'order_id','left')"
   ]
  },
  {
   "cell_type": "code",
   "execution_count": 11,
   "id": "1ad87133-0a85-422f-a1f0-315a96f36e80",
   "metadata": {},
   "outputs": [],
   "source": [
    "full_orders_df = full_orders_df.join(olist_order_payments_df,'order_id','left')"
   ]
  },
  {
   "cell_type": "code",
   "execution_count": 12,
   "id": "82a7a847-8032-471c-81dd-79634c04c381",
   "metadata": {},
   "outputs": [
    {
     "name": "stderr",
     "output_type": "stream",
     "text": [
      "25/03/09 03:05:34 WARN package: Truncated the string representation of a plan since it was too large. This behavior can be adjusted by setting 'spark.sql.debug.maxToStringFields'.\n"
     ]
    },
    {
     "data": {
      "text/plain": [
       "DataFrame[order_id: string, customer_id: string, seller_id: string, product_id: string, order_status: string, order_purchase_timestamp: timestamp, order_approved_at: timestamp, order_delivered_carrier_date: timestamp, order_delivered_customer_date: timestamp, order_estimated_delivery_date: timestamp, order_item_id: int, shipping_limit_date: timestamp, price: double, freight_value: double, product_category_name: string, product_name_lenght: int, product_description_lenght: int, product_photos_qty: int, product_weight_g: int, product_length_cm: int, product_height_cm: int, product_width_cm: int, seller_zip_code_prefix: int, seller_city: string, seller_state: string, customer_unique_id: string, customer_zip_code_prefix: int, customer_city: string, customer_state: string, geolocation_zip_code_prefix: int, geolocation_lat: double, geolocation_lng: double, geolocation_city: string, geolocation_state: string, review_id: string, review_score: string, review_comment_title: string, review_comment_message: string, review_creation_date: string, review_answer_timestamp: string, payment_sequential: int, payment_type: string, payment_installments: int, payment_value: double]"
      ]
     },
     "execution_count": 12,
     "metadata": {},
     "output_type": "execute_result"
    }
   ],
   "source": [
    "full_orders_df.cache()"
   ]
  },
  {
   "cell_type": "code",
   "execution_count": null,
   "id": "d5a2a5e9-7175-4b7e-8bb7-3a19f0d4b723",
   "metadata": {},
   "outputs": [],
   "source": []
  },
  {
   "cell_type": "code",
   "execution_count": 13,
   "id": "bd8b4101-4efe-4ecf-871b-dc452efff6df",
   "metadata": {},
   "outputs": [],
   "source": [
    "# Total Revnue Per seller\n",
    "\n",
    "seller_revenue_df = full_orders_df.groupBy('seller_id').agg(sum('price'))"
   ]
  },
  {
   "cell_type": "code",
   "execution_count": 14,
   "id": "1d8ff894-93b8-4b17-a4bb-55436cbeeb0c",
   "metadata": {},
   "outputs": [
    {
     "name": "stderr",
     "output_type": "stream",
     "text": [
      "[Stage 26:=====================================================>(199 + 1) / 200]\r"
     ]
    },
    {
     "name": "stdout",
     "output_type": "stream",
     "text": [
      "+--------------------+--------------------+\n",
      "|           seller_id|          sum(price)|\n",
      "+--------------------+--------------------+\n",
      "|e63e8bfa530fb1691...|  219481.00000000035|\n",
      "|ff063b022a9a0aab9...|           1860394.0|\n",
      "|a49928bcdf77c55c6...|  1220624.6000000052|\n",
      "|33ac3e28642ab8bda...|   615628.8499999995|\n",
      "|7aa4334be125fcdd2...|   2509245.989999996|\n",
      "|537eb890efff034a8...|   894311.9000000025|\n",
      "|b39d7fe263ef46960...|   729876.4000000011|\n",
      "|ef0ace09169ac0905...|  2261367.7000000025|\n",
      "|f457c46070d02cadd...|   3812449.499999996|\n",
      "|87b740daf17b5d1be...|   2129079.519999993|\n",
      "|9c0e69c7bf2619675...|   5790971.859999996|\n",
      "|a420f60ff1aa9acc8...|   999172.5000000001|\n",
      "|fe2032dab1a61af87...|1.0376350110000022E7|\n",
      "|fad44952713764836...|            934189.0|\n",
      "|7a67c85e85bb2ce85...|2.0312442919999894E7|\n",
      "|972d0f9cf61b499a4...|  1255780.7600000019|\n",
      "|c24173065483e421f...|   29390.27999999993|\n",
      "|ca7c6bd577e559472...|             21885.5|\n",
      "|6426d21aca402a131...|  210373.14000000054|\n",
      "|9d681c7e12db302cb...|   75827.69999999992|\n",
      "+--------------------+--------------------+\n",
      "only showing top 20 rows\n",
      "\n"
     ]
    },
    {
     "name": "stderr",
     "output_type": "stream",
     "text": [
      "                                                                                \r"
     ]
    }
   ],
   "source": [
    "seller_revenue_df.show()"
   ]
  },
  {
   "cell_type": "code",
   "execution_count": 17,
   "id": "c6110c67-d3f4-4811-b3c3-8e9df35f3701",
   "metadata": {},
   "outputs": [
    {
     "name": "stderr",
     "output_type": "stream",
     "text": [
      "[Stage 33:===================================================>  (192 + 4) / 200]\r"
     ]
    },
    {
     "name": "stdout",
     "output_type": "stream",
     "text": [
      "+--------------------+--------------------+\n",
      "|           seller_id|          sum(price)|\n",
      "+--------------------+--------------------+\n",
      "|0ea22c1cfbdc755f8...|  1747285.3000000052|\n",
      "|e63e8bfa530fb1691...|  219481.00000000032|\n",
      "|33ac3e28642ab8bda...|   615628.8499999995|\n",
      "|7aa4334be125fcdd2...|   2509245.989999998|\n",
      "|f457c46070d02cadd...|  3812449.4999999963|\n",
      "|5a6a02f419701fc8c...|   69180.89999999992|\n",
      "|7a67c85e85bb2ce85...|2.0312442919999905E7|\n",
      "|5dceca129747e92ff...|1.4909400350000003E7|\n",
      "|729f06993dac8e860...|  2774183.5599999926|\n",
      "|d2374cbcbb3ca4ab1...|   3375370.150000015|\n",
      "|1e8b33f18b4f7598d...|  3218885.1999999965|\n",
      "|70a12e78e608ac311...|   4838320.179999991|\n",
      "|238fac594e170b59c...|            480044.0|\n",
      "|76d5af76d0271110f...|          4672492.77|\n",
      "|e26901d5ab434ce92...|  2040715.4000000204|\n",
      "|0c7533c71df861ec5...|  463382.39999999857|\n",
      "|8e8a7ce9f2f970dc0...|           1176715.0|\n",
      "|cac4c8e7b1ca6252d...|   661026.2600000006|\n",
      "|0ebd97a106433a45a...|  396542.80000000127|\n",
      "|bd43e172d599bed47...|  3635.8400000000074|\n",
      "+--------------------+--------------------+\n",
      "only showing top 20 rows\n",
      "\n"
     ]
    },
    {
     "name": "stderr",
     "output_type": "stream",
     "text": [
      "                                                                                \r"
     ]
    }
   ],
   "source": [
    "seller_revenue_df.show()"
   ]
  },
  {
   "cell_type": "code",
   "execution_count": 15,
   "id": "2475eba5-3b14-4a26-9602-20364bcb22af",
   "metadata": {},
   "outputs": [
    {
     "name": "stdout",
     "output_type": "stream",
     "text": [
      "root\n",
      " |-- order_id: string (nullable = true)\n",
      " |-- customer_id: string (nullable = true)\n",
      " |-- seller_id: string (nullable = true)\n",
      " |-- product_id: string (nullable = true)\n",
      " |-- order_status: string (nullable = true)\n",
      " |-- order_purchase_timestamp: timestamp (nullable = true)\n",
      " |-- order_approved_at: timestamp (nullable = true)\n",
      " |-- order_delivered_carrier_date: timestamp (nullable = true)\n",
      " |-- order_delivered_customer_date: timestamp (nullable = true)\n",
      " |-- order_estimated_delivery_date: timestamp (nullable = true)\n",
      " |-- order_item_id: integer (nullable = true)\n",
      " |-- shipping_limit_date: timestamp (nullable = true)\n",
      " |-- price: double (nullable = true)\n",
      " |-- freight_value: double (nullable = true)\n",
      " |-- product_category_name: string (nullable = true)\n",
      " |-- product_name_lenght: integer (nullable = true)\n",
      " |-- product_description_lenght: integer (nullable = true)\n",
      " |-- product_photos_qty: integer (nullable = true)\n",
      " |-- product_weight_g: integer (nullable = true)\n",
      " |-- product_length_cm: integer (nullable = true)\n",
      " |-- product_height_cm: integer (nullable = true)\n",
      " |-- product_width_cm: integer (nullable = true)\n",
      " |-- seller_zip_code_prefix: integer (nullable = true)\n",
      " |-- seller_city: string (nullable = true)\n",
      " |-- seller_state: string (nullable = true)\n",
      " |-- customer_unique_id: string (nullable = true)\n",
      " |-- customer_zip_code_prefix: integer (nullable = true)\n",
      " |-- customer_city: string (nullable = true)\n",
      " |-- customer_state: string (nullable = true)\n",
      " |-- geolocation_zip_code_prefix: integer (nullable = true)\n",
      " |-- geolocation_lat: double (nullable = true)\n",
      " |-- geolocation_lng: double (nullable = true)\n",
      " |-- geolocation_city: string (nullable = true)\n",
      " |-- geolocation_state: string (nullable = true)\n",
      " |-- review_id: string (nullable = true)\n",
      " |-- review_score: string (nullable = true)\n",
      " |-- review_comment_title: string (nullable = true)\n",
      " |-- review_comment_message: string (nullable = true)\n",
      " |-- review_creation_date: string (nullable = true)\n",
      " |-- review_answer_timestamp: string (nullable = true)\n",
      " |-- payment_sequential: integer (nullable = true)\n",
      " |-- payment_type: string (nullable = true)\n",
      " |-- payment_installments: integer (nullable = true)\n",
      " |-- payment_value: double (nullable = true)\n",
      "\n"
     ]
    }
   ],
   "source": [
    "full_orders_df.printSchema()"
   ]
  },
  {
   "cell_type": "markdown",
   "id": "c0b50ed0-3502-4e22-a250-5a8b7a4052c8",
   "metadata": {},
   "source": [
    "# HW"
   ]
  },
  {
   "cell_type": "code",
   "execution_count": 17,
   "id": "c792f247-544b-40f8-96d8-e42ccc2767c3",
   "metadata": {},
   "outputs": [
    {
     "name": "stderr",
     "output_type": "stream",
     "text": [
      "[Stage 33:====================================================> (194 + 2) / 200]\r"
     ]
    },
    {
     "name": "stdout",
     "output_type": "stream",
     "text": [
      "+--------------------+------------+\n",
      "|         customer_id|total_orders|\n",
      "+--------------------+------------+\n",
      "|351e40989da90e704...|       11427|\n",
      "|50920f8cd0681fd86...|       10752|\n",
      "|9b43e2a62de9bab3a...|        8556|\n",
      "|270c23a11d024a44c...|        8001|\n",
      "|5c87184371002d49e...|        6876|\n",
      "|d3e82ccec3cb5f956...|        6876|\n",
      "|d5f2b3f597c7ccafb...|        6706|\n",
      "|c2f18647725395af4...|        6612|\n",
      "|24e7dc2ff8c071263...|        6597|\n",
      "|7bb57d182bdc11653...|        6258|\n",
      "|d22f25a9fadfb1abb...|        6072|\n",
      "|63b964e79dee32a35...|        6072|\n",
      "|1ff773612ab8934db...|        5820|\n",
      "|13aa59158da63ba0e...|        5206|\n",
      "|78fc46047c4a639e8...|        5200|\n",
      "|dd3f1762eb601f41c...|        4992|\n",
      "|a193aa8d905b8e246...|        4896|\n",
      "|9eb3d566e87289dcb...|        4872|\n",
      "|2ba91e12e5e4c9f56...|        4752|\n",
      "|1b2ab6eda1946a6ff...|        4728|\n",
      "+--------------------+------------+\n",
      "only showing top 20 rows\n",
      "\n"
     ]
    },
    {
     "name": "stderr",
     "output_type": "stream",
     "text": [
      "                                                                                \r"
     ]
    }
   ],
   "source": [
    "# Total Orders Per Customer\n",
    "\n",
    "customer_order_df = full_orders_df.groupBy('customer_id')\\\n",
    ".agg(\n",
    "    count('order_id').alias('total_orders')\n",
    ").orderBy('total_orders',ascending=False)\n",
    "\n",
    "customer_order_df.show()"
   ]
  },
  {
   "cell_type": "code",
   "execution_count": null,
   "id": "4a8ba278-36f5-4358-9691-a0d0eb5c19fe",
   "metadata": {},
   "outputs": [],
   "source": [
    "\n",
    "# High Value Customers\n",
    "\n",
    "# DIY"
   ]
  },
  {
   "cell_type": "code",
   "execution_count": 19,
   "id": "dbf399e7-ab6f-490e-a3e9-41f4b9ba3ee7",
   "metadata": {},
   "outputs": [],
   "source": [
    "# Most Sold Products\n",
    "\n",
    "top_products = full_orders_df.groupBy('product_id')\\\n",
    ".agg(\n",
    "    count('order_id').alias('total_sold')\n",
    ").orderBy(desc('total_sold'))\\\n",
    "          .limit(10)"
   ]
  },
  {
   "cell_type": "code",
   "execution_count": 20,
   "id": "e7b98adb-2404-43f0-9b3e-f5d7eb808e9c",
   "metadata": {},
   "outputs": [
    {
     "name": "stderr",
     "output_type": "stream",
     "text": [
      "[Stage 40:====================================================> (194 + 2) / 200]\r"
     ]
    },
    {
     "name": "stdout",
     "output_type": "stream",
     "text": [
      "+--------------------+----------+\n",
      "|          product_id|total_sold|\n",
      "+--------------------+----------+\n",
      "|aca2eb7d00ea1a7b8...|     86738|\n",
      "|422879e10f4668299...|     81109|\n",
      "|99a4788cb24856965...|     78774|\n",
      "|389d119b48cf3043d...|     60247|\n",
      "|d1c427060a0f73f6b...|     59273|\n",
      "|368c6c730842d7801...|     58355|\n",
      "|53759a2ecddad2bb8...|     52654|\n",
      "|53b36df67ebb7c415...|     52104|\n",
      "|154e7e31ebfa09220...|     42697|\n",
      "|3dd2a17168ec895c7...|     40787|\n",
      "+--------------------+----------+\n",
      "\n"
     ]
    },
    {
     "name": "stderr",
     "output_type": "stream",
     "text": [
      "                                                                                \r"
     ]
    }
   ],
   "source": [
    "top_products.show()"
   ]
  },
  {
   "cell_type": "code",
   "execution_count": 22,
   "id": "84f862c3-33b8-48ab-97ca-056ef22016e3",
   "metadata": {},
   "outputs": [
    {
     "name": "stdout",
     "output_type": "stream",
     "text": [
      "+--------------------+------------+\n",
      "|          product_id|review_score|\n",
      "+--------------------+------------+\n",
      "|b12f82804a690dfab...|           5|\n",
      "|b12f82804a690dfab...|           5|\n",
      "|b12f82804a690dfab...|           5|\n",
      "|b12f82804a690dfab...|           5|\n",
      "|b12f82804a690dfab...|           5|\n",
      "|b12f82804a690dfab...|           5|\n",
      "|b12f82804a690dfab...|           5|\n",
      "|b12f82804a690dfab...|           5|\n",
      "|b12f82804a690dfab...|           5|\n",
      "|b12f82804a690dfab...|           5|\n",
      "|b12f82804a690dfab...|           5|\n",
      "|b12f82804a690dfab...|           5|\n",
      "|b12f82804a690dfab...|           5|\n",
      "|b12f82804a690dfab...|           5|\n",
      "|b12f82804a690dfab...|           5|\n",
      "|b12f82804a690dfab...|           5|\n",
      "|b12f82804a690dfab...|           5|\n",
      "|b12f82804a690dfab...|           5|\n",
      "|b12f82804a690dfab...|           5|\n",
      "|b12f82804a690dfab...|           5|\n",
      "+--------------------+------------+\n",
      "only showing top 20 rows\n",
      "\n"
     ]
    }
   ],
   "source": [
    "# Product with most reviews\n",
    "full_orders_df[['product_id','review_score']].show()"
   ]
  },
  {
   "cell_type": "code",
   "execution_count": null,
   "id": "1e3f77f3-b0b9-4d31-846e-bae1602f2a12",
   "metadata": {},
   "outputs": [],
   "source": [
    "# Average Review Score by Seller"
   ]
  },
  {
   "cell_type": "code",
   "execution_count": null,
   "id": "5740c3b0-8692-4570-b302-480fa62c9279",
   "metadata": {},
   "outputs": [],
   "source": [
    "# Window Functions in SQL\n",
    "# Rank & DenseRank"
   ]
  },
  {
   "cell_type": "code",
   "execution_count": null,
   "id": "74b08eb7-c9eb-4f56-8667-2e567c3a8833",
   "metadata": {},
   "outputs": [],
   "source": []
  },
  {
   "cell_type": "code",
   "execution_count": null,
   "id": "a0d90659-80ba-4bde-8fca-ef7cb1a9bc86",
   "metadata": {},
   "outputs": [],
   "source": []
  },
  {
   "cell_type": "markdown",
   "id": "86eb0588-91e8-47ef-89d3-b8b4907270ae",
   "metadata": {},
   "source": [
    "# Advance Aggregation"
   ]
  },
  {
   "cell_type": "code",
   "execution_count": 104,
   "id": "ddcc7f39-824f-421c-badd-3b8b3b1b3be6",
   "metadata": {},
   "outputs": [
    {
     "ename": "NameError",
     "evalue": "name 'customers_spending_df' is not defined",
     "output_type": "error",
     "traceback": [
      "\u001b[0;31m---------------------------------------------------------------------------\u001b[0m",
      "\u001b[0;31mNameError\u001b[0m                                 Traceback (most recent call last)",
      "\u001b[0;32m/tmp/ipykernel_4108/870768993.py\u001b[0m in \u001b[0;36m<cell line: 1>\u001b[0;34m()\u001b[0m\n\u001b[0;32m----> 1\u001b[0;31m \u001b[0mcustomers_spending_df\u001b[0m\u001b[0;34m\u001b[0m\u001b[0;34m\u001b[0m\u001b[0m\n\u001b[0m",
      "\u001b[0;31mNameError\u001b[0m: name 'customers_spending_df' is not defined"
     ]
    }
   ],
   "source": [
    "customers_spending_df"
   ]
  },
  {
   "cell_type": "code",
   "execution_count": 105,
   "id": "65f58645-97c8-42f5-aa3d-94728505e6bf",
   "metadata": {},
   "outputs": [],
   "source": [
    "# Total Revenue and AOV(Average order Value) per Customer\n",
    "\n",
    "customers_spending_df = full_orders_df.groupBy('customer_id')\\\n",
    ".agg(\n",
    "    count('order_id').alias('total_orders'),\n",
    "    sum('price').alias('total_revenue'),\n",
    "    round(avg('price'),2).alias('AOV')).orderBy('total_revenue',ascending=False)"
   ]
  },
  {
   "cell_type": "code",
   "execution_count": 22,
   "id": "98011062-e0f0-415b-9e45-fd53de1b916f",
   "metadata": {},
   "outputs": [
    {
     "data": {
      "text/plain": [
       "969.2819319173698"
      ]
     },
     "execution_count": 22,
     "metadata": {},
     "output_type": "execute_result"
    }
   ],
   "source": [
    "6662844.0/6874"
   ]
  },
  {
   "cell_type": "code",
   "execution_count": 106,
   "id": "3ab95fb5-baa3-45a3-b3d7-7fc0239b5077",
   "metadata": {},
   "outputs": [
    {
     "name": "stderr",
     "output_type": "stream",
     "text": [
      "[Stage 230:===================================================> (193 + 2) / 200]\r"
     ]
    },
    {
     "name": "stdout",
     "output_type": "stream",
     "text": [
      "+--------------------+------------+------------------+-------+\n",
      "|         customer_id|total_orders|     total_revenue|    AOV|\n",
      "+--------------------+------------+------------------+-------+\n",
      "|d3e82ccec3cb5f956...|        6876|         6662844.0|  969.0|\n",
      "|df55c14d1476a9a34...|         743|         3565657.0| 4799.0|\n",
      "|fe5113a38e3575c04...|        2292|         3293604.0| 1437.0|\n",
      "|ec5b2ba62e5743423...|        1428|         2556120.0| 1790.0|\n",
      "|63b964e79dee32a35...|        6072|         2501664.0|  412.0|\n",
      "|46bb3c0b1a65c8399...|         748|         2336752.0| 3124.0|\n",
      "|05455dfa7cd02f13d...|        2184| 2160194.400000087|  989.1|\n",
      "|3690e975641f01bd0...|         802|         2124498.0| 2649.0|\n",
      "|349509b216bd5ec11...|         743|         1923627.0| 2589.0|\n",
      "|695476b5848d64ba0...|         687|1820543.1299999943|2649.99|\n",
      "|73236a0796f53d60d...|         832|         1755520.0| 2110.0|\n",
      "|cc803a2c412833101...|         762|         1676400.0| 2200.0|\n",
      "|1ff773612ab8934db...|        5820|1658641.7999999512| 284.99|\n",
      "|fced842c7dad61e8c...|         602|         1654898.0| 2749.0|\n",
      "|1ecb47d23dc8203cd...|        1164|1629588.3599999903|1399.99|\n",
      "|de832e8dbb1f588a4...|        2190|1584990.5999999817| 723.74|\n",
      "|803cd9b04f9cd252c...|         488|         1512312.0| 3099.0|\n",
      "|d72181923840c8895...|        2721|1488114.8999999566|  546.9|\n",
      "|06d478ba352a27a51...|        1146|         1461150.0| 1275.0|\n",
      "|0049e8442c2a3e4a8...|        1204|         1444800.0| 1200.0|\n",
      "+--------------------+------------+------------------+-------+\n",
      "only showing top 20 rows\n",
      "\n"
     ]
    },
    {
     "name": "stderr",
     "output_type": "stream",
     "text": [
      "                                                                                \r"
     ]
    }
   ],
   "source": [
    "customers_spending_df.show()"
   ]
  },
  {
   "cell_type": "code",
   "execution_count": 24,
   "id": "c4cc0055-ccc3-4307-b596-828341b1dc01",
   "metadata": {},
   "outputs": [
    {
     "name": "stdout",
     "output_type": "stream",
     "text": [
      "root\n",
      " |-- order_id: string (nullable = true)\n",
      " |-- customer_id: string (nullable = true)\n",
      " |-- seller_id: string (nullable = true)\n",
      " |-- product_id: string (nullable = true)\n",
      " |-- order_status: string (nullable = true)\n",
      " |-- order_purchase_timestamp: timestamp (nullable = true)\n",
      " |-- order_approved_at: timestamp (nullable = true)\n",
      " |-- order_delivered_carrier_date: timestamp (nullable = true)\n",
      " |-- order_delivered_customer_date: timestamp (nullable = true)\n",
      " |-- order_estimated_delivery_date: timestamp (nullable = true)\n",
      " |-- order_item_id: integer (nullable = true)\n",
      " |-- shipping_limit_date: timestamp (nullable = true)\n",
      " |-- price: double (nullable = true)\n",
      " |-- freight_value: double (nullable = true)\n",
      " |-- product_category_name: string (nullable = true)\n",
      " |-- product_name_lenght: integer (nullable = true)\n",
      " |-- product_description_lenght: integer (nullable = true)\n",
      " |-- product_photos_qty: integer (nullable = true)\n",
      " |-- product_weight_g: integer (nullable = true)\n",
      " |-- product_length_cm: integer (nullable = true)\n",
      " |-- product_height_cm: integer (nullable = true)\n",
      " |-- product_width_cm: integer (nullable = true)\n",
      " |-- seller_zip_code_prefix: integer (nullable = true)\n",
      " |-- seller_city: string (nullable = true)\n",
      " |-- seller_state: string (nullable = true)\n",
      " |-- customer_unique_id: string (nullable = true)\n",
      " |-- customer_zip_code_prefix: integer (nullable = true)\n",
      " |-- customer_city: string (nullable = true)\n",
      " |-- customer_state: string (nullable = true)\n",
      " |-- geolocation_zip_code_prefix: integer (nullable = true)\n",
      " |-- geolocation_lat: double (nullable = true)\n",
      " |-- geolocation_lng: double (nullable = true)\n",
      " |-- geolocation_city: string (nullable = true)\n",
      " |-- geolocation_state: string (nullable = true)\n",
      " |-- review_id: string (nullable = true)\n",
      " |-- review_score: string (nullable = true)\n",
      " |-- review_comment_title: string (nullable = true)\n",
      " |-- review_comment_message: string (nullable = true)\n",
      " |-- review_creation_date: string (nullable = true)\n",
      " |-- review_answer_timestamp: string (nullable = true)\n",
      " |-- payment_sequential: integer (nullable = true)\n",
      " |-- payment_type: string (nullable = true)\n",
      " |-- payment_installments: integer (nullable = true)\n",
      " |-- payment_value: double (nullable = true)\n",
      "\n"
     ]
    }
   ],
   "source": [
    "full_orders_df.printSchema()"
   ]
  },
  {
   "cell_type": "code",
   "execution_count": 27,
   "id": "155969a7-d542-4b70-9ad1-6a952b431834",
   "metadata": {},
   "outputs": [],
   "source": [
    "# Seller Performance Metrics (Revenue, Average Review, count)\n",
    "\n",
    "seller_performace_df = full_orders_df.groupBy('seller_id')\\\n",
    ".agg(\n",
    "    count('order_id').alias('total_orders'),\n",
    "    sum('price').alias('total_revenue'),\n",
    "    round(avg('review_score'),2).alias('avg review')\n",
    ").orderBy('total_revenue',ascending=False)\n"
   ]
  },
  {
   "cell_type": "code",
   "execution_count": 28,
   "id": "5242db58-da54-4997-a26c-8de91eed7cdb",
   "metadata": {},
   "outputs": [
    {
     "name": "stderr",
     "output_type": "stream",
     "text": [
      "[Stage 54:=====================================================>(197 + 3) / 200]\r"
     ]
    },
    {
     "name": "stdout",
     "output_type": "stream",
     "text": [
      "+--------------------+------------+--------------------+----------+\n",
      "|           seller_id|total_orders|       total_revenue|avg review|\n",
      "+--------------------+------------+--------------------+----------+\n",
      "|4869f7a5dfa277a7d...|      184586|       3.613854732E7|      4.09|\n",
      "|53243585a1d6dc264...|       54510| 3.428977494999999E7|      4.12|\n",
      "|4a3ca9315b744ce9f...|      330659| 3.375938104000014E7|      3.77|\n",
      "|7c67e1448b00f6e96...|      233303| 3.228194686999958E7|      3.42|\n",
      "|fa1c13f2614d7b5c4...|       87679| 3.013763311000003E7|      4.38|\n",
      "|da8622b14eb17ae28...|      264431|2.9857519929999955E7|      3.98|\n",
      "|7e93a43ef30c4f03f...|       50223| 2.631430130999988E7|      4.15|\n",
      "|1025f0e2d44d7041d...|      229582|2.2936882719999965E7|      3.89|\n",
      "|46dc3b2cc0980fb8e...|       90426| 2.179177328999985E7|      4.18|\n",
      "|955fee9216a65b617...|      232360| 2.096402587000002E7|      4.04|\n",
      "|7a67c85e85bb2ce85...|      167228|  2.03124429199999E7|      4.26|\n",
      "|620c87c171fb2a6dd...|      142229| 2.011954390000001E7|      4.36|\n",
      "|7d13fca1522535862...|       88805|       1.815667201E7|      4.07|\n",
      "|a1043bafd471dff53...|      132671| 1.766255697999993E7|      4.25|\n",
      "|6560211a19b47992c...|      286533|        1.73155019E7|      3.86|\n",
      "|edb1ef5e36e0c8cd8...|       38945|1.6624835149999848E7|      4.43|\n",
      "|1f50f920176fa81da...|      297287|1.6497155839999722E7|      4.04|\n",
      "|5dceca129747e92ff...|       50418|1.4909400350000003E7|      4.17|\n",
      "|cc419e0650a3c5ba7...|      256018| 1.475068364000004E7|      4.07|\n",
      "|3d871de0142ce09b7...|      175874|1.4184266399999935E7|      4.15|\n",
      "+--------------------+------------+--------------------+----------+\n",
      "only showing top 20 rows\n",
      "\n"
     ]
    },
    {
     "name": "stderr",
     "output_type": "stream",
     "text": [
      "                                                                                \r"
     ]
    }
   ],
   "source": [
    "seller_performace_df.show()"
   ]
  },
  {
   "cell_type": "code",
   "execution_count": null,
   "id": "c0992368-ad08-48ec-b2db-14c25994325b",
   "metadata": {},
   "outputs": [],
   "source": []
  },
  {
   "cell_type": "code",
   "execution_count": null,
   "id": "8152fc06-2911-4203-80bb-b46a1fbbc375",
   "metadata": {},
   "outputs": [],
   "source": []
  },
  {
   "cell_type": "code",
   "execution_count": 23,
   "id": "c5647cb0-ad0f-4b7f-a80f-a83b697cf2c6",
   "metadata": {},
   "outputs": [
    {
     "name": "stdout",
     "output_type": "stream",
     "text": [
      "root\n",
      " |-- order_id: string (nullable = true)\n",
      " |-- customer_id: string (nullable = true)\n",
      " |-- seller_id: string (nullable = true)\n",
      " |-- product_id: string (nullable = true)\n",
      " |-- order_status: string (nullable = true)\n",
      " |-- order_purchase_timestamp: timestamp (nullable = true)\n",
      " |-- order_approved_at: timestamp (nullable = true)\n",
      " |-- order_delivered_carrier_date: timestamp (nullable = true)\n",
      " |-- order_delivered_customer_date: timestamp (nullable = true)\n",
      " |-- order_estimated_delivery_date: timestamp (nullable = true)\n",
      " |-- order_item_id: integer (nullable = true)\n",
      " |-- shipping_limit_date: timestamp (nullable = true)\n",
      " |-- price: double (nullable = true)\n",
      " |-- freight_value: double (nullable = true)\n",
      " |-- product_category_name: string (nullable = true)\n",
      " |-- product_name_lenght: integer (nullable = true)\n",
      " |-- product_description_lenght: integer (nullable = true)\n",
      " |-- product_photos_qty: integer (nullable = true)\n",
      " |-- product_weight_g: integer (nullable = true)\n",
      " |-- product_length_cm: integer (nullable = true)\n",
      " |-- product_height_cm: integer (nullable = true)\n",
      " |-- product_width_cm: integer (nullable = true)\n",
      " |-- seller_zip_code_prefix: integer (nullable = true)\n",
      " |-- seller_city: string (nullable = true)\n",
      " |-- seller_state: string (nullable = true)\n",
      " |-- customer_unique_id: string (nullable = true)\n",
      " |-- customer_zip_code_prefix: integer (nullable = true)\n",
      " |-- customer_city: string (nullable = true)\n",
      " |-- customer_state: string (nullable = true)\n",
      " |-- geolocation_zip_code_prefix: integer (nullable = true)\n",
      " |-- geolocation_lat: double (nullable = true)\n",
      " |-- geolocation_lng: double (nullable = true)\n",
      " |-- geolocation_city: string (nullable = true)\n",
      " |-- geolocation_state: string (nullable = true)\n",
      " |-- review_id: string (nullable = true)\n",
      " |-- review_score: string (nullable = true)\n",
      " |-- review_comment_title: string (nullable = true)\n",
      " |-- review_comment_message: string (nullable = true)\n",
      " |-- review_creation_date: string (nullable = true)\n",
      " |-- review_answer_timestamp: string (nullable = true)\n",
      " |-- payment_sequential: integer (nullable = true)\n",
      " |-- payment_type: string (nullable = true)\n",
      " |-- payment_installments: integer (nullable = true)\n",
      " |-- payment_value: double (nullable = true)\n",
      "\n"
     ]
    }
   ],
   "source": [
    "full_orders_df.printSchema()"
   ]
  },
  {
   "cell_type": "code",
   "execution_count": null,
   "id": "e75b66e8-3f6f-48fc-bcd6-a2d958dc4ab9",
   "metadata": {},
   "outputs": [],
   "source": []
  },
  {
   "cell_type": "code",
   "execution_count": 63,
   "id": "d97710a1-f129-4b46-8fbd-ec65b4de63cc",
   "metadata": {},
   "outputs": [
    {
     "name": "stdout",
     "output_type": "stream",
     "text": [
      "+-----+\n",
      "|price|\n",
      "+-----+\n",
      "|29.89|\n",
      "+-----+\n",
      "only showing top 1 row\n",
      "\n"
     ]
    }
   ],
   "source": [
    "full_orders_df.select('price').show(1)"
   ]
  },
  {
   "cell_type": "code",
   "execution_count": 40,
   "id": "b40af6c4-7507-4153-b9f3-edbf6dc9bfca",
   "metadata": {},
   "outputs": [
    {
     "name": "stdout",
     "output_type": "stream",
     "text": [
      "+--------------------+\n",
      "|         customer_id|\n",
      "+--------------------+\n",
      "|0881e1574aa6b621c...|\n",
      "+--------------------+\n",
      "only showing top 1 row\n",
      "\n"
     ]
    }
   ],
   "source": [
    "# Joins - Remove Ambiguity \n",
    "\n",
    "full_orders_df.select(full_orders_df.customer_id).show(1)"
   ]
  },
  {
   "cell_type": "markdown",
   "id": "9cdef1fc-8c17-4340-a4a6-b976878d049f",
   "metadata": {},
   "source": [
    "amazing now its clear I never knew it was a class object and was always confusing even chatgpt couldn't help me understand"
   ]
  },
  {
   "cell_type": "code",
   "execution_count": null,
   "id": "3ec6b8c1-7307-4955-9993-02dadbf925be",
   "metadata": {},
   "outputs": [],
   "source": [
    "s1 = 5\n",
    "s1"
   ]
  },
  {
   "cell_type": "code",
   "execution_count": 41,
   "id": "67ae9aef-a9bc-4895-b1ed-8a0c21c81b2b",
   "metadata": {},
   "outputs": [
    {
     "name": "stdout",
     "output_type": "stream",
     "text": [
      "+--------------------+\n",
      "|         customer_id|\n",
      "+--------------------+\n",
      "|0881e1574aa6b621c...|\n",
      "+--------------------+\n",
      "only showing top 1 row\n",
      "\n"
     ]
    }
   ],
   "source": [
    "full_orders_df.select(col('customer_id')).show(1)"
   ]
  },
  {
   "cell_type": "code",
   "execution_count": 51,
   "id": "4fead1ef-10d7-47ca-ad69-f3ea47b42370",
   "metadata": {},
   "outputs": [
    {
     "name": "stdout",
     "output_type": "stream",
     "text": [
      "+--------------------+\n",
      "|         customer_id|\n",
      "+--------------------+\n",
      "|0881e1574aa6b621c...|\n",
      "+--------------------+\n",
      "only showing top 1 row\n",
      "\n"
     ]
    }
   ],
   "source": [
    "full_orders_df[['customer_id']].show(1)"
   ]
  },
  {
   "cell_type": "code",
   "execution_count": 60,
   "id": "4256f51d-82c8-4541-917b-cd5917ad7bd5",
   "metadata": {},
   "outputs": [
    {
     "name": "stdout",
     "output_type": "stream",
     "text": [
      "+---------+\n",
      "|new_price|\n",
      "+---------+\n",
      "|    34.89|\n",
      "|    34.89|\n",
      "|    34.89|\n",
      "|    34.89|\n",
      "|    34.89|\n",
      "+---------+\n",
      "only showing top 5 rows\n",
      "\n"
     ]
    }
   ],
   "source": [
    "full_orders_df.selectExpr('price + 5 as new_price').show(5)"
   ]
  },
  {
   "cell_type": "code",
   "execution_count": null,
   "id": "cb944b9e-8156-46f9-8cdd-a3f2b64c01d7",
   "metadata": {},
   "outputs": [],
   "source": [
    "full_df.selectExpr(\"price + 5 as price\").orderBy(\"price\").show()"
   ]
  },
  {
   "cell_type": "code",
   "execution_count": 64,
   "id": "fefc865c-7fb5-428f-aa61-148871f06214",
   "metadata": {},
   "outputs": [],
   "source": [
    "full_orders_df.createOrReplaceTempView('full_orders')"
   ]
  },
  {
   "cell_type": "markdown",
   "id": "3db72dda-aa29-4414-9aef-21977c9bb4e4",
   "metadata": {},
   "source": [
    "Just curious to know, aren’t cloud data warehouses not capable of performing aggregations? Why spark is better ?"
   ]
  },
  {
   "cell_type": "code",
   "execution_count": null,
   "id": "98487f86-6cf2-4963-8e73-9c7793e6b182",
   "metadata": {},
   "outputs": [],
   "source": []
  },
  {
   "cell_type": "code",
   "execution_count": null,
   "id": "6e1ea05a-beda-4a28-a3ca-521d89cb86db",
   "metadata": {},
   "outputs": [],
   "source": []
  },
  {
   "cell_type": "markdown",
   "id": "18a6ea56-57bd-4235-bbc0-6473333f55b7",
   "metadata": {},
   "source": [
    "# Window Function"
   ]
  },
  {
   "cell_type": "code",
   "execution_count": 67,
   "id": "ea3da8f6-83f3-4354-83a9-74ebbafb6d48",
   "metadata": {},
   "outputs": [],
   "source": [
    "from pyspark.sql.window import Window"
   ]
  },
  {
   "cell_type": "code",
   "execution_count": 68,
   "id": "83d15b97-fafe-4ddf-a6c3-39a4e1110bf5",
   "metadata": {},
   "outputs": [],
   "source": [
    "window_spec = Window.partitionBy('seller_id').orderBy(desc('price'))"
   ]
  },
  {
   "cell_type": "code",
   "execution_count": 80,
   "id": "c70690ab-570b-4a87-9ece-015324e2aae7",
   "metadata": {},
   "outputs": [],
   "source": [
    "# Top selling Product by each seller\n",
    "\n",
    "top_product_seller = full_orders_df.withColumn('dense_rank',row_number().over(window_spec)).filter(col('dense_rank')<=5)"
   ]
  },
  {
   "cell_type": "code",
   "execution_count": 81,
   "id": "c2d1bfbd-536c-4052-b0a5-f8e2715968c9",
   "metadata": {},
   "outputs": [
    {
     "name": "stderr",
     "output_type": "stream",
     "text": [
      "[Stage 159:==========================================>              (3 + 1) / 4]\r"
     ]
    },
    {
     "name": "stdout",
     "output_type": "stream",
     "text": [
      "+--------------------+--------------------+-----+----------+\n",
      "|           seller_id|          product_id|price|dense_rank|\n",
      "+--------------------+--------------------+-----+----------+\n",
      "|0015a82c2db000af6...|a2ff5a97bf95719e3...|895.0|         3|\n",
      "|0015a82c2db000af6...|a2ff5a97bf95719e3...|895.0|         1|\n",
      "|0015a82c2db000af6...|a2ff5a97bf95719e3...|895.0|         4|\n",
      "|0015a82c2db000af6...|a2ff5a97bf95719e3...|895.0|         2|\n",
      "|0015a82c2db000af6...|a2ff5a97bf95719e3...|895.0|         5|\n",
      "|001cca7ae9ae17fb1...|e251ebd2858be1aa7...|199.0|         1|\n",
      "|001cca7ae9ae17fb1...|e251ebd2858be1aa7...|199.0|         5|\n",
      "|001cca7ae9ae17fb1...|e251ebd2858be1aa7...|199.0|         2|\n",
      "|001cca7ae9ae17fb1...|e251ebd2858be1aa7...|199.0|         4|\n",
      "|001cca7ae9ae17fb1...|e251ebd2858be1aa7...|199.0|         3|\n",
      "|001e6ad469a905060...|093cd981b714bcdff...|250.0|         2|\n",
      "|001e6ad469a905060...|093cd981b714bcdff...|250.0|         3|\n",
      "|001e6ad469a905060...|093cd981b714bcdff...|250.0|         4|\n",
      "|001e6ad469a905060...|093cd981b714bcdff...|250.0|         1|\n",
      "|001e6ad469a905060...|093cd981b714bcdff...|250.0|         5|\n",
      "|002100f778ceb8431...|f20ecbadee5c21ee0...|129.9|         1|\n",
      "|002100f778ceb8431...|f20ecbadee5c21ee0...|129.9|         4|\n",
      "|002100f778ceb8431...|f20ecbadee5c21ee0...|129.9|         3|\n",
      "|002100f778ceb8431...|f20ecbadee5c21ee0...|129.9|         2|\n",
      "|002100f778ceb8431...|f20ecbadee5c21ee0...|129.9|         5|\n",
      "+--------------------+--------------------+-----+----------+\n",
      "only showing top 20 rows\n",
      "\n"
     ]
    },
    {
     "name": "stderr",
     "output_type": "stream",
     "text": [
      "                                                                                \r"
     ]
    }
   ],
   "source": [
    "top_product_seller.select('seller_id','product_id','price','dense_rank').orderBy('seller_id','price').show()"
   ]
  },
  {
   "cell_type": "code",
   "execution_count": null,
   "id": "898c6a0d-e1db-4271-bdd7-0712de63ea04",
   "metadata": {},
   "outputs": [],
   "source": []
  },
  {
   "cell_type": "code",
   "execution_count": null,
   "id": "3a0b4afd-49d0-4294-a1ca-36b92f4bf6c0",
   "metadata": {},
   "outputs": [],
   "source": []
  },
  {
   "cell_type": "code",
   "execution_count": null,
   "id": "8e48f7a9-ed8a-4270-aec8-72d88ae135a9",
   "metadata": {},
   "outputs": [],
   "source": []
  },
  {
   "cell_type": "markdown",
   "id": "089e8695-de65-4989-b9e7-dd13c1a8e164",
   "metadata": {},
   "source": [
    "# Advance Aggregation"
   ]
  },
  {
   "cell_type": "code",
   "execution_count": 84,
   "id": "9f682b78-c2fd-4ccc-ba22-9d0cc0f3344b",
   "metadata": {},
   "outputs": [],
   "source": [
    "# Product Popularity Metrics\n",
    "\n",
    "# total_sales, total_revenue, avg_price,price_volatility, unique_seller\n",
    "\n",
    "product_metrics_df = full_orders_df.groupBy('product_id')\\\n",
    ".agg(\n",
    " \n",
    "    count('order_id').alias('total_sales'),\n",
    "    sum('price').alias('total_revenue'),\n",
    "    round(avg('price'),2).alias('avg_price'),\n",
    "    round(stddev('price'),2).alias('price_volatility'),\n",
    "    collect_set('seller_id').alias('unique_sellers')\n",
    ").orderBy(desc('total_sales'))"
   ]
  },
  {
   "cell_type": "code",
   "execution_count": 86,
   "id": "f0ca0a7c-9c04-45bd-ba14-8f88ea1241d4",
   "metadata": {},
   "outputs": [
    {
     "name": "stderr",
     "output_type": "stream",
     "text": [
      "[Stage 169:====================================================>(197 + 2) / 200]\r"
     ]
    },
    {
     "name": "stdout",
     "output_type": "stream",
     "text": [
      "+--------------------------------+-----------+------------------+---------+----------------+--------------------------------------------------------------------------------------------------------------------------------------------------------------------------+\n",
      "|product_id                      |total_sales|total_revenue     |avg_price|price_volatility|unique_sellers                                                                                                                                                            |\n",
      "+--------------------------------+-----------+------------------+---------+----------------+--------------------------------------------------------------------------------------------------------------------------------------------------------------------------+\n",
      "|aca2eb7d00ea1a7b8ebd4e68314663af|86738      |6164450.500000012 |71.07    |3.17            |[955fee9216a65b617aa5c0531780ce60]                                                                                                                                        |\n",
      "|422879e10f46682990de24d770e7f83d|81109      |4442731.610000008 |54.77    |4.46            |[1f50f920176fa81dab994f9023523100]                                                                                                                                        |\n",
      "|99a4788cb24856965c36a24e339b6058|78774      |6921672.81        |87.87    |4.08            |[4a3ca9315b744ce9f8e9374361493884, 53d00c40e32aeb924a84ce72b1af869d]                                                                                                      |\n",
      "|389d119b48cf3043d311335e499d9c6b|60247      |3280473.2300000074|54.45    |4.37            |[1f50f920176fa81dab994f9023523100]                                                                                                                                        |\n",
      "|d1c427060a0f73f6b889a5c7c61f2ac4|59273      |8219984.329999986 |138.68   |16.58           |[a1043bafd471dff536d0c462352beb48]                                                                                                                                        |\n",
      "|368c6c730842d78016ad823897a372db|58355      |3181520.099999996 |54.52    |4.59            |[1f50f920176fa81dab994f9023523100]                                                                                                                                        |\n",
      "|53759a2ecddad2bb87a079a1f1519f73|52654      |2893017.499999999 |54.94    |4.52            |[1f50f920176fa81dab994f9023523100]                                                                                                                                        |\n",
      "|53b36df67ebb7c41585e8d54d6772e08|52104      |6159787.509999991 |118.22   |20.13           |[7d13fca15225358621be4086e1eb0964, 4869f7a5dfa277a7dca6462dcf3b52b2, 58f1a6197ed863543e0136bdedb3fce2]                                                                    |\n",
      "|154e7e31ebfa092203795c972e5804a6|42697      |962093.0299999989 |22.53    |1.92            |[cc419e0650a3c5ba77189a1882b7556a]                                                                                                                                        |\n",
      "|3dd2a17168ec895c781a9191c1e95ad7|40787      |6116941.3000000045|149.97   |0.85            |[de722cd6dad950a92b7d4f82673f8833]                                                                                                                                        |\n",
      "|e53e557d5a159f5aa2c5e995dfdf244b|39516      |3329353.9499999923|84.25    |11.32           |[6973a06f484aacf400ece213dbf3d946, 0b90b6df587eb83608a64ea8b390cf07, 88460e8ebdecbfecb5f9601833981930, 8e6d7754bc7e0f22c96d255ebda59eba, 00fc707aaaad2d31347cf883cd2dfe10]|\n",
      "|2b4609f8948be18874494203496bc318|36179      |3171618.7700000084|87.66    |4.22            |[cc419e0650a3c5ba77189a1882b7556a]                                                                                                                                        |\n",
      "|35afc973633aaeb6b877ff57b2793310|31206      |2735669.000000066 |87.66    |3.32            |[d20b021d3efdf267a402c402a48ea64b, 4a3ca9315b744ce9f8e9374361493884]                                                                                                      |\n",
      "|e0d64dcfaa3b6db5c54ca298ae101d05|31152      |5226237.629999996 |167.77   |30.9            |[7d13fca15225358621be4086e1eb0964, 4869f7a5dfa277a7dca6462dcf3b52b2, 2eb70248d66e0e3ef83659f71b244378, 7e93a43ef30c4f03f38b393420bc753a, fa1c13f2614d7b5c4749cbc52fecda94]|\n",
      "|42a2c92a0979a949ca4ea89ec5c7b934|30485      |1810866.1000000099|59.4     |0.64            |[813348c996469b40f2e028d5429d3495]                                                                                                                                        |\n",
      "|7c1bd920dbdf22470b68bde975dd3ccf|29016      |1739220.8400000022|59.94    |2.77            |[cc419e0650a3c5ba77189a1882b7556a]                                                                                                                                        |\n",
      "|a62e25e09e05e6faf31d90c6ec1aa3d1|28898      |3079869.0         |106.58   |1.5             |[634964b17796e64304cadf1ad3050fb7]                                                                                                                                        |\n",
      "|5a848e4ab52fd5445cdc07aab1c40e48|28734      |3533994.660000008 |122.99   |0.0             |[c826c40d7b19f62a09e2d7c5e7295ee2]                                                                                                                                        |\n",
      "|c4baedd846ed09b85f78a781b522f126|28166      |2802044.650000007 |99.48    |11.9            |[a1043bafd471dff536d0c462352beb48]                                                                                                                                        |\n",
      "|b532349fe46b38fbc7bb3914c1bdae07|27174      |993012.7699999994 |36.54    |1.92            |[1025f0e2d44d7041d6cf58b6550e0bfa]                                                                                                                                        |\n",
      "+--------------------------------+-----------+------------------+---------+----------------+--------------------------------------------------------------------------------------------------------------------------------------------------------------------------+\n",
      "only showing top 20 rows\n",
      "\n"
     ]
    },
    {
     "name": "stderr",
     "output_type": "stream",
     "text": [
      "                                                                                \r"
     ]
    }
   ],
   "source": [
    "product_metrics_df.show(truncate=False)"
   ]
  },
  {
   "cell_type": "code",
   "execution_count": null,
   "id": "36e69c9b-d008-4a1d-bc48-5cb5aceac097",
   "metadata": {},
   "outputs": [],
   "source": []
  },
  {
   "cell_type": "code",
   "execution_count": null,
   "id": "23bb5b1d-824e-4877-a102-6fbe1176921f",
   "metadata": {},
   "outputs": [],
   "source": []
  },
  {
   "cell_type": "code",
   "execution_count": null,
   "id": "fc176086-5a16-4b42-b6bd-5b5a476d688b",
   "metadata": {},
   "outputs": [],
   "source": [
    "# Monthly Revenue & Order Count Trend\n",
    "\n",
    "total_orders\n",
    "total_revenue\n",
    "aov\n",
    "min \n",
    "max"
   ]
  },
  {
   "cell_type": "markdown",
   "id": "9537845b-6b06-453a-8ea6-4b2d3aa2a537",
   "metadata": {},
   "source": [
    "# Enrichment"
   ]
  },
  {
   "cell_type": "code",
   "execution_count": 87,
   "id": "ffd7e9c8-e094-4d05-a6cb-e5cfba21dc21",
   "metadata": {},
   "outputs": [
    {
     "name": "stderr",
     "output_type": "stream",
     "text": [
      "[Stage 176:=================================================>   (188 + 2) / 200]\r"
     ]
    },
    {
     "name": "stdout",
     "output_type": "stream",
     "text": [
      "+------------+\n",
      "|order_status|\n",
      "+------------+\n",
      "|     shipped|\n",
      "|    canceled|\n",
      "|    invoiced|\n",
      "|   delivered|\n",
      "|  processing|\n",
      "| unavailable|\n",
      "|    approved|\n",
      "+------------+\n",
      "\n"
     ]
    },
    {
     "name": "stderr",
     "output_type": "stream",
     "text": [
      "                                                                                \r"
     ]
    }
   ],
   "source": [
    "full_orders_df[['order_status']].distinct().show()"
   ]
  },
  {
   "cell_type": "code",
   "execution_count": 96,
   "id": "a1cb1b1d-0f28-460c-8efa-ca7c2d6a3edd",
   "metadata": {},
   "outputs": [],
   "source": [
    "#Order Status Flags\n",
    "\n",
    "full_orders_df = full_orders_df.withColumn('is_delivered',when(col('order_status')=='delivered',lit(1)).otherwise(lit(0)))"
   ]
  },
  {
   "cell_type": "code",
   "execution_count": 97,
   "id": "47a1c178-35f8-403f-ac7f-d0c3bdd98abc",
   "metadata": {},
   "outputs": [
    {
     "name": "stderr",
     "output_type": "stream",
     "text": [
      "[Stage 207:================================================>    (182 + 2) / 200]\r"
     ]
    },
    {
     "name": "stdout",
     "output_type": "stream",
     "text": [
      "+------------+------------+\n",
      "|order_status|is_delivered|\n",
      "+------------+------------+\n",
      "|     shipped|           0|\n",
      "|    invoiced|           0|\n",
      "|   delivered|           1|\n",
      "|    canceled|           0|\n",
      "|  processing|           0|\n",
      "|    approved|           0|\n",
      "| unavailable|           0|\n",
      "+------------+------------+\n",
      "\n"
     ]
    },
    {
     "name": "stderr",
     "output_type": "stream",
     "text": [
      "                                                                                \r"
     ]
    }
   ],
   "source": [
    "full_orders_df[['order_status','is_delivered']].distinct().show()"
   ]
  },
  {
   "cell_type": "code",
   "execution_count": 98,
   "id": "c899e2d8-0a54-4a96-8026-b6a1d249b76b",
   "metadata": {},
   "outputs": [
    {
     "name": "stdout",
     "output_type": "stream",
     "text": [
      "root\n",
      " |-- order_id: string (nullable = true)\n",
      " |-- customer_id: string (nullable = true)\n",
      " |-- seller_id: string (nullable = true)\n",
      " |-- product_id: string (nullable = true)\n",
      " |-- order_status: string (nullable = true)\n",
      " |-- order_purchase_timestamp: timestamp (nullable = true)\n",
      " |-- order_approved_at: timestamp (nullable = true)\n",
      " |-- order_delivered_carrier_date: timestamp (nullable = true)\n",
      " |-- order_delivered_customer_date: timestamp (nullable = true)\n",
      " |-- order_estimated_delivery_date: timestamp (nullable = true)\n",
      " |-- order_item_id: integer (nullable = true)\n",
      " |-- shipping_limit_date: timestamp (nullable = true)\n",
      " |-- price: double (nullable = true)\n",
      " |-- freight_value: double (nullable = true)\n",
      " |-- product_category_name: string (nullable = true)\n",
      " |-- product_name_lenght: integer (nullable = true)\n",
      " |-- product_description_lenght: integer (nullable = true)\n",
      " |-- product_photos_qty: integer (nullable = true)\n",
      " |-- product_weight_g: integer (nullable = true)\n",
      " |-- product_length_cm: integer (nullable = true)\n",
      " |-- product_height_cm: integer (nullable = true)\n",
      " |-- product_width_cm: integer (nullable = true)\n",
      " |-- seller_zip_code_prefix: integer (nullable = true)\n",
      " |-- seller_city: string (nullable = true)\n",
      " |-- seller_state: string (nullable = true)\n",
      " |-- customer_unique_id: string (nullable = true)\n",
      " |-- customer_zip_code_prefix: integer (nullable = true)\n",
      " |-- customer_city: string (nullable = true)\n",
      " |-- customer_state: string (nullable = true)\n",
      " |-- geolocation_zip_code_prefix: integer (nullable = true)\n",
      " |-- geolocation_lat: double (nullable = true)\n",
      " |-- geolocation_lng: double (nullable = true)\n",
      " |-- geolocation_city: string (nullable = true)\n",
      " |-- geolocation_state: string (nullable = true)\n",
      " |-- review_id: string (nullable = true)\n",
      " |-- review_score: string (nullable = true)\n",
      " |-- review_comment_title: string (nullable = true)\n",
      " |-- review_comment_message: string (nullable = true)\n",
      " |-- review_creation_date: string (nullable = true)\n",
      " |-- review_answer_timestamp: string (nullable = true)\n",
      " |-- payment_sequential: integer (nullable = true)\n",
      " |-- payment_type: string (nullable = true)\n",
      " |-- payment_installments: integer (nullable = true)\n",
      " |-- payment_value: double (nullable = true)\n",
      " |-- is_delivered: integer (nullable = false)\n",
      "\n"
     ]
    }
   ],
   "source": [
    "full_orders_df.printSchema()"
   ]
  },
  {
   "cell_type": "code",
   "execution_count": null,
   "id": "eabf9c23-ffa8-45c7-90cb-adadb1150725",
   "metadata": {},
   "outputs": [],
   "source": [
    "# HW\n",
    "\n",
    "total cost and fright calculation"
   ]
  },
  {
   "cell_type": "code",
   "execution_count": 100,
   "id": "00fc9d36-7110-47c3-bdbc-6d04cf74221c",
   "metadata": {},
   "outputs": [
    {
     "name": "stderr",
     "output_type": "stream",
     "text": [
      "[Stage 217:===================================================> (194 + 2) / 200]\r"
     ]
    },
    {
     "name": "stdout",
     "output_type": "stream",
     "text": [
      "+-----+-------------+\n",
      "|price|freight_value|\n",
      "+-----+-------------+\n",
      "| 35.9|         7.78|\n",
      "|180.0|        15.01|\n",
      "|58.55|        12.54|\n",
      "|139.0|        23.55|\n",
      "|55.13|        15.14|\n",
      "| 30.5|         7.78|\n",
      "|399.9|       173.43|\n",
      "|224.9|        22.06|\n",
      "| 24.0|         9.34|\n",
      "|199.0|        20.63|\n",
      "| 92.0|        17.92|\n",
      "| 65.0|        15.56|\n",
      "|68.99|         8.29|\n",
      "|122.9|         8.21|\n",
      "| 75.0|        44.45|\n",
      "|  6.0|         8.72|\n",
      "| 45.9|        16.11|\n",
      "| 49.0|         14.1|\n",
      "|122.3|        18.74|\n",
      "| 49.9|         8.72|\n",
      "+-----+-------------+\n",
      "only showing top 20 rows\n",
      "\n"
     ]
    },
    {
     "name": "stderr",
     "output_type": "stream",
     "text": [
      "                                                                                \r"
     ]
    }
   ],
   "source": [
    "full_orders_df.select('price','freight_value').distinct().show()"
   ]
  },
  {
   "cell_type": "code",
   "execution_count": 102,
   "id": "9077e0f2-9274-440d-9fb5-5125c02d264c",
   "metadata": {},
   "outputs": [
    {
     "name": "stdout",
     "output_type": "stream",
     "text": [
      "+--------------------+--------------------+--------------------+--------------------+------------+------------------------+-------------------+----------------------------+-----------------------------+-----------------------------+-------------+-------------------+-----+-------------+---------------------+-------------------+--------------------------+------------------+----------------+-----------------+-----------------+----------------+----------------------+-----------+------------+--------------------+------------------------+-------------+--------------+---------------------------+------------------+------------------+----------------+-----------------+--------------------+------------+--------------------+----------------------+--------------------+-----------------------+------------------+------------+--------------------+-------------+------------+\n",
      "|            order_id|         customer_id|           seller_id|          product_id|order_status|order_purchase_timestamp|  order_approved_at|order_delivered_carrier_date|order_delivered_customer_date|order_estimated_delivery_date|order_item_id|shipping_limit_date|price|freight_value|product_category_name|product_name_lenght|product_description_lenght|product_photos_qty|product_weight_g|product_length_cm|product_height_cm|product_width_cm|seller_zip_code_prefix|seller_city|seller_state|  customer_unique_id|customer_zip_code_prefix|customer_city|customer_state|geolocation_zip_code_prefix|   geolocation_lat|   geolocation_lng|geolocation_city|geolocation_state|           review_id|review_score|review_comment_title|review_comment_message|review_creation_date|review_answer_timestamp|payment_sequential|payment_type|payment_installments|payment_value|is_delivered|\n",
      "+--------------------+--------------------+--------------------+--------------------+------------+------------------------+-------------------+----------------------------+-----------------------------+-----------------------------+-------------+-------------------+-----+-------------+---------------------+-------------------+--------------------------+------------------+----------------+-----------------+-----------------+----------------+----------------------+-----------+------------+--------------------+------------------------+-------------+--------------+---------------------------+------------------+------------------+----------------+-----------------+--------------------+------------+--------------------+----------------------+--------------------+-----------------------+------------------+------------+--------------------+-------------+------------+\n",
      "|c94206a6d6698d585...|0881e1574aa6b621c...|a7d0f8dd44f57ef6d...|b12f82804a690dfab...|   delivered|     2018-06-25 12:06:07|2018-06-25 12:15:25|         2018-06-28 13:57:00|          2018-06-29 19:24:41|          2018-07-05 00:00:00|            1|2018-06-29 12:15:25|29.89|         7.47|         beleza_saude|                 60|                      1806|                 2|             650|               22|                8|              13|                  3225|  sao paulo|          SP|18bc87094128bbfe9...|                    1238|    sao paulo|            SP|                       1238|-23.54195269441404|-46.65931762155928|       sao paulo|               SP|dd3eb6540c95c5580...|           5|                null|                  null| 2018-06-30 00:00:00|    2018-06-30 23:34:04|                 1| credit_card|                   1|        37.36|           1|\n",
      "+--------------------+--------------------+--------------------+--------------------+------------+------------------------+-------------------+----------------------------+-----------------------------+-----------------------------+-------------+-------------------+-----+-------------+---------------------+-------------------+--------------------------+------------------+----------------+-----------------+-----------------+----------------+----------------------+-----------+------------+--------------------+------------------------+-------------+--------------+---------------------------+------------------+------------------+----------------+-----------------+--------------------+------------+--------------------+----------------------+--------------------+-----------------------+------------------+------------+--------------------+-------------+------------+\n",
      "only showing top 1 row\n",
      "\n"
     ]
    }
   ],
   "source": [
    "full_orders_df.show(1)"
   ]
  },
  {
   "cell_type": "code",
   "execution_count": 103,
   "id": "c9a61daa-07f8-4ea0-b423-6a93776c126f",
   "metadata": {},
   "outputs": [
    {
     "ename": "NameError",
     "evalue": "name 'customers_spending_df' is not defined",
     "output_type": "error",
     "traceback": [
      "\u001b[0;31m---------------------------------------------------------------------------\u001b[0m",
      "\u001b[0;31mNameError\u001b[0m                                 Traceback (most recent call last)",
      "\u001b[0;32m/tmp/ipykernel_4108/3930687678.py\u001b[0m in \u001b[0;36m<cell line: 1>\u001b[0;34m()\u001b[0m\n\u001b[0;32m----> 1\u001b[0;31m \u001b[0mcustomers_spending_df\u001b[0m\u001b[0;34m.\u001b[0m\u001b[0mshow\u001b[0m\u001b[0;34m(\u001b[0m\u001b[0;36m1\u001b[0m\u001b[0;34m)\u001b[0m\u001b[0;34m\u001b[0m\u001b[0;34m\u001b[0m\u001b[0m\n\u001b[0m",
      "\u001b[0;31mNameError\u001b[0m: name 'customers_spending_df' is not defined"
     ]
    }
   ],
   "source": [
    "customers_spending_df.show(1)"
   ]
  },
  {
   "cell_type": "code",
   "execution_count": 108,
   "id": "d2c8e154-feee-4897-b04e-611470f3a820",
   "metadata": {},
   "outputs": [],
   "source": [
    "customers_spending_df = customers_spending_df.withColumn(\n",
    "    'customer_segment',\n",
    "    when(col('AOV')>= 1500,'High_value')\n",
    "    .when((col('AOV')>=700) & (col('AOV')<1500),'Medium_value')\n",
    "    .otherwise('Low_value'))"
   ]
  },
  {
   "cell_type": "code",
   "execution_count": 109,
   "id": "a5e7d0a8-930b-4693-831b-a8af703303c0",
   "metadata": {},
   "outputs": [
    {
     "name": "stderr",
     "output_type": "stream",
     "text": [
      "[Stage 237:===================================================> (194 + 2) / 200]\r"
     ]
    },
    {
     "name": "stdout",
     "output_type": "stream",
     "text": [
      "+--------------------+------------+------------------+-------+----------------+\n",
      "|         customer_id|total_orders|     total_revenue|    AOV|customer_segment|\n",
      "+--------------------+------------+------------------+-------+----------------+\n",
      "|d3e82ccec3cb5f956...|        6876|         6662844.0|  969.0|    Medium_value|\n",
      "|df55c14d1476a9a34...|         743|         3565657.0| 4799.0|      High_value|\n",
      "|fe5113a38e3575c04...|        2292|         3293604.0| 1437.0|    Medium_value|\n",
      "|ec5b2ba62e5743423...|        1428|         2556120.0| 1790.0|      High_value|\n",
      "|63b964e79dee32a35...|        6072|         2501664.0|  412.0|       Low_value|\n",
      "|46bb3c0b1a65c8399...|         748|         2336752.0| 3124.0|      High_value|\n",
      "|05455dfa7cd02f13d...|        2184| 2160194.400000087|  989.1|    Medium_value|\n",
      "|3690e975641f01bd0...|         802|         2124498.0| 2649.0|      High_value|\n",
      "|349509b216bd5ec11...|         743|         1923627.0| 2589.0|      High_value|\n",
      "|695476b5848d64ba0...|         687|1820543.1299999943|2649.99|      High_value|\n",
      "|73236a0796f53d60d...|         832|         1755520.0| 2110.0|      High_value|\n",
      "|cc803a2c412833101...|         762|         1676400.0| 2200.0|      High_value|\n",
      "|1ff773612ab8934db...|        5820|1658641.7999999512| 284.99|       Low_value|\n",
      "|fced842c7dad61e8c...|         602|         1654898.0| 2749.0|      High_value|\n",
      "|1ecb47d23dc8203cd...|        1164|1629588.3599999903|1399.99|    Medium_value|\n",
      "|de832e8dbb1f588a4...|        2190|1584990.5999999817| 723.74|    Medium_value|\n",
      "|803cd9b04f9cd252c...|         488|         1512312.0| 3099.0|      High_value|\n",
      "|d72181923840c8895...|        2721|1488114.8999999566|  546.9|       Low_value|\n",
      "|06d478ba352a27a51...|        1146|         1461150.0| 1275.0|    Medium_value|\n",
      "|0049e8442c2a3e4a8...|        1204|         1444800.0| 1200.0|    Medium_value|\n",
      "+--------------------+------------+------------------+-------+----------------+\n",
      "only showing top 20 rows\n",
      "\n"
     ]
    },
    {
     "name": "stderr",
     "output_type": "stream",
     "text": [
      "                                                                                \r"
     ]
    }
   ],
   "source": [
    "customers_spending_df.show()"
   ]
  },
  {
   "cell_type": "code",
   "execution_count": 111,
   "id": "c97c7d70-efaf-4e60-8835-6165c5b17d9b",
   "metadata": {},
   "outputs": [],
   "source": [
    "full_orders_df = full_orders_df.join(customers_spending_df.select('customer_id','customer_segment'),'customer_id','left')"
   ]
  },
  {
   "cell_type": "code",
   "execution_count": 112,
   "id": "013f67ed-1c3e-4db7-98cc-c14a0bc78a45",
   "metadata": {},
   "outputs": [
    {
     "name": "stderr",
     "output_type": "stream",
     "text": [
      "                                                                                \r"
     ]
    },
    {
     "name": "stdout",
     "output_type": "stream",
     "text": [
      "+--------------------+----------------+\n",
      "|         customer_id|customer_segment|\n",
      "+--------------------+----------------+\n",
      "|0881e1574aa6b621c...|       Low_value|\n",
      "|0881e1574aa6b621c...|       Low_value|\n",
      "|0881e1574aa6b621c...|       Low_value|\n",
      "|0881e1574aa6b621c...|       Low_value|\n",
      "|0881e1574aa6b621c...|       Low_value|\n",
      "|0881e1574aa6b621c...|       Low_value|\n",
      "|0881e1574aa6b621c...|       Low_value|\n",
      "|0881e1574aa6b621c...|       Low_value|\n",
      "|0881e1574aa6b621c...|       Low_value|\n",
      "|0881e1574aa6b621c...|       Low_value|\n",
      "|0881e1574aa6b621c...|       Low_value|\n",
      "|0881e1574aa6b621c...|       Low_value|\n",
      "|0881e1574aa6b621c...|       Low_value|\n",
      "|0881e1574aa6b621c...|       Low_value|\n",
      "|0881e1574aa6b621c...|       Low_value|\n",
      "|0881e1574aa6b621c...|       Low_value|\n",
      "|0881e1574aa6b621c...|       Low_value|\n",
      "|0881e1574aa6b621c...|       Low_value|\n",
      "|0881e1574aa6b621c...|       Low_value|\n",
      "|0881e1574aa6b621c...|       Low_value|\n",
      "+--------------------+----------------+\n",
      "only showing top 20 rows\n",
      "\n"
     ]
    }
   ],
   "source": [
    "full_orders_df['customer_id','customer_segment'].show()"
   ]
  },
  {
   "cell_type": "code",
   "execution_count": 113,
   "id": "20fce89f-658b-4ef4-b465-ec03b59b9e19",
   "metadata": {},
   "outputs": [
    {
     "name": "stdout",
     "output_type": "stream",
     "text": [
      "root\n",
      " |-- customer_id: string (nullable = true)\n",
      " |-- order_id: string (nullable = true)\n",
      " |-- seller_id: string (nullable = true)\n",
      " |-- product_id: string (nullable = true)\n",
      " |-- order_status: string (nullable = true)\n",
      " |-- order_purchase_timestamp: timestamp (nullable = true)\n",
      " |-- order_approved_at: timestamp (nullable = true)\n",
      " |-- order_delivered_carrier_date: timestamp (nullable = true)\n",
      " |-- order_delivered_customer_date: timestamp (nullable = true)\n",
      " |-- order_estimated_delivery_date: timestamp (nullable = true)\n",
      " |-- order_item_id: integer (nullable = true)\n",
      " |-- shipping_limit_date: timestamp (nullable = true)\n",
      " |-- price: double (nullable = true)\n",
      " |-- freight_value: double (nullable = true)\n",
      " |-- product_category_name: string (nullable = true)\n",
      " |-- product_name_lenght: integer (nullable = true)\n",
      " |-- product_description_lenght: integer (nullable = true)\n",
      " |-- product_photos_qty: integer (nullable = true)\n",
      " |-- product_weight_g: integer (nullable = true)\n",
      " |-- product_length_cm: integer (nullable = true)\n",
      " |-- product_height_cm: integer (nullable = true)\n",
      " |-- product_width_cm: integer (nullable = true)\n",
      " |-- seller_zip_code_prefix: integer (nullable = true)\n",
      " |-- seller_city: string (nullable = true)\n",
      " |-- seller_state: string (nullable = true)\n",
      " |-- customer_unique_id: string (nullable = true)\n",
      " |-- customer_zip_code_prefix: integer (nullable = true)\n",
      " |-- customer_city: string (nullable = true)\n",
      " |-- customer_state: string (nullable = true)\n",
      " |-- geolocation_zip_code_prefix: integer (nullable = true)\n",
      " |-- geolocation_lat: double (nullable = true)\n",
      " |-- geolocation_lng: double (nullable = true)\n",
      " |-- geolocation_city: string (nullable = true)\n",
      " |-- geolocation_state: string (nullable = true)\n",
      " |-- review_id: string (nullable = true)\n",
      " |-- review_score: string (nullable = true)\n",
      " |-- review_comment_title: string (nullable = true)\n",
      " |-- review_comment_message: string (nullable = true)\n",
      " |-- review_creation_date: string (nullable = true)\n",
      " |-- review_answer_timestamp: string (nullable = true)\n",
      " |-- payment_sequential: integer (nullable = true)\n",
      " |-- payment_type: string (nullable = true)\n",
      " |-- payment_installments: integer (nullable = true)\n",
      " |-- payment_value: double (nullable = true)\n",
      " |-- is_delivered: integer (nullable = false)\n",
      " |-- customer_segment: string (nullable = true)\n",
      "\n"
     ]
    }
   ],
   "source": [
    "full_orders_df.printSchema()"
   ]
  },
  {
   "cell_type": "code",
   "execution_count": null,
   "id": "6019bcd5-ef92-44e4-91bd-e634fb5e0e91",
   "metadata": {},
   "outputs": [],
   "source": [
    "hadoop fs - \n",
    "create a external table\n",
    "save it to some DB or lake"
   ]
  }
 ],
 "metadata": {
  "kernelspec": {
   "display_name": "PySpark",
   "language": "python",
   "name": "pyspark"
  },
  "language_info": {
   "codemirror_mode": {
    "name": "ipython",
    "version": 3
   },
   "file_extension": ".py",
   "mimetype": "text/x-python",
   "name": "python",
   "nbconvert_exporter": "python",
   "pygments_lexer": "ipython3",
   "version": "3.10.8"
  }
 },
 "nbformat": 4,
 "nbformat_minor": 5
}