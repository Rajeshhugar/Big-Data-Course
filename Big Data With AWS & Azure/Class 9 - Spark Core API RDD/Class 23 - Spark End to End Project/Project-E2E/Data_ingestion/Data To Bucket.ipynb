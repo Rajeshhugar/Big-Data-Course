{
 "cells": [
  {
   "cell_type": "code",
   "execution_count": 2,
   "metadata": {},
   "outputs": [
    {
     "name": "stdout",
     "output_type": "stream",
     "text": [
      "/Users/admin/Movies/Project-E2E/Data ingestion\n"
     ]
    }
   ],
   "source": [
    "!pwd"
   ]
  },
  {
   "cell_type": "code",
   "execution_count": null,
   "metadata": {},
   "outputs": [
    {
     "name": "stdout",
     "output_type": "stream",
     "text": [
      "  % Total    % Received % Xferd  Average Speed   Time    Time     Time  Current\n",
      "                                 Dload  Upload   Total   Spent    Left  Speed\n",
      "  0     0    0     0    0     0      0      0 --:--:-- --:--:-- --:--:--     0-:-- --:--:-- --:--:--     0\n",
      "100 5448k  100 5448k    0     0  2001k      0  0:00:02  0:00:02 --:--:-- 2853k\n"
     ]
    }
   ],
   "source": [
    "!curl -L -o /Users/admin/Movies/Project-E2E/Data_ingestion/credit-card-approval-prediction.zip\\\n",
    "  https://www.kaggle.com/api/v1/datasets/download/rikdifos/credit-card-approval-prediction"
   ]
  },
  {
   "cell_type": "markdown",
   "metadata": {},
   "source": [
    "we have to activate the env also after kernel. "
   ]
  },
  {
   "cell_type": "code",
   "execution_count": 5,
   "metadata": {},
   "outputs": [
    {
     "name": "stdout",
     "output_type": "stream",
     "text": [
      "Archive:  /Users/admin/Movies/Project-E2E/Data_ingestion/credit-card-approval-prediction.zip\n",
      "  inflating: /Users/admin/Movies/Project-E2E/Data_ingestion/credit-card-approval-prediction/application_record.csv  \n",
      "  inflating: /Users/admin/Movies/Project-E2E/Data_ingestion/credit-card-approval-prediction/credit_record.csv  \n"
     ]
    }
   ],
   "source": [
    "!unzip /Users/admin/Movies/Project-E2E/Data_ingestion/credit-card-approval-prediction.zip\\\n",
    "  -d /Users/admin/Movies/Project-E2E/Data_ingestion/credit-card-approval-prediction"
   ]
  },
  {
   "cell_type": "markdown",
   "metadata": {},
   "source": [
    "dataproc-staging-us-central1-458263062208-tw36mmqt/notebooks/jupyter/jupyter/Big Data Class Notebooks/Project/Project 2 - E2E"
   ]
  },
  {
   "cell_type": "markdown",
   "metadata": {},
   "source": [
    "dataproc-staging-us-central1-458263062208-tw36mmqt/notebooks/jupyter/jupyter/Big Data Class Notebooks"
   ]
  },
  {
   "cell_type": "markdown",
   "metadata": {},
   "source": [
    "# Upload the Data to Google bucket"
   ]
  },
  {
   "cell_type": "code",
   "execution_count": 6,
   "metadata": {},
   "outputs": [
    {
     "name": "stdout",
     "output_type": "stream",
     "text": [
      "File credit-card-approval-prediction/application_record.csv uploaded to gs://dataproc-staging-us-central1-458263062208-tw36mmqt/notebooks/jupyter/jupyter/Big Data Class Notebooks/Project/Project2/Data/application_record.csv\n"
     ]
    }
   ],
   "source": [
    "from google.cloud import storage\n",
    "import os\n",
    "\n",
    "# Define Variables\n",
    "bucket_name = 'dataproc-staging-us-central1-458263062208-tw36mmqt'\n",
    "local_file_path = 'credit-card-approval-prediction/application_record.csv'\n",
    "gcs_folder = 'notebooks/jupyter/jupyter/Big Data Class Notebooks/Project/Project2/Data/'\n",
    "gcs_file_path = gcs_folder + 'application_record.csv'\n",
    "\n",
    "# # Initialize Google Cloud Storage Client\n",
    "client = storage.Client()\n",
    "bucket = client.bucket(bucket_name)\n",
    "\n",
    "# Upload File\n",
    "blob = bucket.blob(gcs_file_path)\n",
    "blob.upload_from_filename(local_file_path)\n",
    "\n",
    "print(f'File {local_file_path} uploaded to gs://{bucket_name}/{gcs_file_path}')"
   ]
  },
  {
   "cell_type": "code",
   "execution_count": 2,
   "metadata": {},
   "outputs": [
    {
     "name": "stdout",
     "output_type": "stream",
     "text": [
      "notebooks/jupyter/Big Data Class Notebooks/Project/Project2/application_record.csv\n"
     ]
    }
   ],
   "source": [
    "# List files in the bucket\n",
    "blobs = list(bucket.list_blobs(prefix=gcs_folder))\n",
    "for blob in blobs:\n",
    "    print(blob.name)"
   ]
  },
  {
   "cell_type": "code",
   "execution_count": null,
   "metadata": {},
   "outputs": [],
   "source": []
  }
 ],
 "metadata": {
  "kernelspec": {
   "display_name": "base",
   "language": "python",
   "name": "python3"
  },
  "language_info": {
   "codemirror_mode": {
    "name": "ipython",
    "version": 3
   },
   "file_extension": ".py",
   "mimetype": "text/x-python",
   "name": "python",
   "nbconvert_exporter": "python",
   "pygments_lexer": "ipython3",
   "version": "3.12.7"
  }
 },
 "nbformat": 4,
 "nbformat_minor": 2
}
