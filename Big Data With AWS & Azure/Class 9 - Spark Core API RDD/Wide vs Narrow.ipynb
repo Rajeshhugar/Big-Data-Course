{
 "cells": [
  {
   "cell_type": "code",
   "execution_count": 13,
   "id": "0aa47ecc-53e0-4fb5-85da-6d05b84b9f9b",
   "metadata": {
    "tags": []
   },
   "outputs": [],
   "source": [
    "from pyspark.sql import SparkSession"
   ]
  },
  {
   "cell_type": "code",
   "execution_count": 14,
   "id": "474176a3-2fa8-4f6a-bb4b-c54f1417e683",
   "metadata": {
    "tags": []
   },
   "outputs": [
    {
     "name": "stderr",
     "output_type": "stream",
     "text": [
      "25/01/19 05:24:55 INFO SparkEnv: Registering MapOutputTracker\n",
      "25/01/19 05:24:55 INFO SparkEnv: Registering BlockManagerMaster\n",
      "25/01/19 05:24:55 INFO SparkEnv: Registering BlockManagerMasterHeartbeat\n",
      "25/01/19 05:24:56 INFO SparkEnv: Registering OutputCommitCoordinator\n"
     ]
    }
   ],
   "source": [
    "spark = SparkSession.builder.appName(\"Wide-Transformation\").master(\"yarn\").getOrCreate()"
   ]
  },
  {
   "cell_type": "code",
   "execution_count": 15,
   "id": "775d8f43-36e9-479b-a551-eb42c40b827b",
   "metadata": {
    "tags": []
   },
   "outputs": [],
   "source": [
    "customers_data = [\n",
    "\"customer_id,name,city,state,country,registration_date,is_active\",\n",
    "\"0,Customer_0,Bangalore,Karnataka,India,2023-11-11,True\",\n",
    "\"1,Customer_1,Hyderabad,Delhi,India,2023-08-26,True\",\n",
    "\"2,Customer_2,Ahmedabad,West Bengal,India,2023-06-23,True\",\n",
    "\"3,Customer_3,Bangalore,Tamil Nadu,India,2023-03-24,False\",\n",
    "\"4,Customer_4,Bangalore,Gujarat,India,2023-06-06,False\",\n",
    "\"5,Customer_5,Delhi,Maharashtra,India,2023-04-19,False\"]\n"
   ]
  },
  {
   "cell_type": "code",
   "execution_count": 16,
   "id": "8df95c72-04cd-48ec-a328-58613525e1ab",
   "metadata": {
    "tags": []
   },
   "outputs": [],
   "source": [
    "data_rdd = spark.sparkContext.parallelize(customers_data)"
   ]
  },
  {
   "cell_type": "code",
   "execution_count": 17,
   "id": "91b7788f-100c-468a-8acf-4449c8206286",
   "metadata": {
    "tags": []
   },
   "outputs": [
    {
     "name": "stderr",
     "output_type": "stream",
     "text": [
      "                                                                                \r"
     ]
    }
   ],
   "source": [
    "# Filter () -> Transformation\n",
    "# first () -> Action\n",
    "\n",
    "header = data_rdd.first()\n",
    "\n",
    "data_rdd = data_rdd.filter(lambda row : row!=header)\n"
   ]
  },
  {
   "cell_type": "code",
   "execution_count": 6,
   "id": "bbb7952d-6892-4116-9fd3-a31528ccc242",
   "metadata": {
    "tags": []
   },
   "outputs": [
    {
     "name": "stderr",
     "output_type": "stream",
     "text": [
      "[Stage 0:>                                                          (0 + 1) / 1]\r"
     ]
    },
    {
     "name": "stdout",
     "output_type": "stream",
     "text": [
      "customer_id,name,city,state,country,registration_date,is_active\n"
     ]
    },
    {
     "name": "stderr",
     "output_type": "stream",
     "text": [
      "                                                                                \r"
     ]
    }
   ],
   "source": [
    "# first () -> Action"
   ]
  },
  {
   "cell_type": "code",
   "execution_count": 18,
   "id": "92785e96-52c0-482e-9524-450e5ee0ad01",
   "metadata": {
    "tags": []
   },
   "outputs": [],
   "source": [
    "def parse_data(row):\n",
    "    fields = row.split(',')\n",
    "    \n",
    "    return (\n",
    "        int(fields[0]),\n",
    "        fields[1],\n",
    "        fields[2],\n",
    "        fields[3],\n",
    "        fields[4],\n",
    "        fields[5],\n",
    "        fields[6]=='True'\n",
    "    )"
   ]
  },
  {
   "cell_type": "code",
   "execution_count": 19,
   "id": "46043408-90da-413e-81c9-60c882a8767c",
   "metadata": {
    "tags": []
   },
   "outputs": [],
   "source": [
    "parsed_rdd = data_rdd.map(parse_data)"
   ]
  },
  {
   "cell_type": "code",
   "execution_count": 10,
   "id": "18c5c68a-964e-43f2-ba01-b0d72929043c",
   "metadata": {
    "tags": []
   },
   "outputs": [],
   "source": [
    "active_customers = parsed_rdd.filter(lambda row:row[6])"
   ]
  },
  {
   "cell_type": "code",
   "execution_count": 20,
   "id": "d42bec69-3155-4d63-9536-3f5eefde89a3",
   "metadata": {
    "tags": []
   },
   "outputs": [
    {
     "name": "stdout",
     "output_type": "stream",
     "text": [
      "2\n"
     ]
    }
   ],
   "source": [
    "print(parsed_rdd.getNumPartitions())"
   ]
  },
  {
   "cell_type": "code",
   "execution_count": 21,
   "id": "3232b6bb-fd5d-4457-bbca-76b85d8a71dd",
   "metadata": {
    "tags": []
   },
   "outputs": [],
   "source": [
    "grouped_by_city_rdd = parsed_rdd.map(lambda row: (row[2], 1)).reduceByKey(lambda x, y: x + y)"
   ]
  },
  {
   "cell_type": "code",
   "execution_count": 22,
   "id": "7095ccc2-541e-4d81-bd58-2ce548fb3622",
   "metadata": {
    "tags": []
   },
   "outputs": [
    {
     "name": "stderr",
     "output_type": "stream",
     "text": [
      "                                                                                \r"
     ]
    },
    {
     "data": {
      "text/plain": [
       "[('Hyderabad', 1), ('Delhi', 1), ('Ahmedabad', 1), ('Bangalore', 3)]"
      ]
     },
     "execution_count": 22,
     "metadata": {},
     "output_type": "execute_result"
    }
   ],
   "source": [
    "grouped_by_city_rdd.collect()"
   ]
  },
  {
   "cell_type": "code",
   "execution_count": 23,
   "id": "174ef956-141b-4ec8-ad4c-db20a7dc0282",
   "metadata": {
    "tags": []
   },
   "outputs": [],
   "source": [
    "spark.stop()"
   ]
  }
 ],
 "metadata": {
  "kernelspec": {
   "display_name": "Spark",
   "language": "python",
   "name": "pyspark"
  },
  "language_info": {
   "codemirror_mode": {
    "name": "ipython",
    "version": 3
   },
   "file_extension": ".py",
   "mimetype": "text/x-python",
   "name": "python",
   "nbconvert_exporter": "python",
   "pygments_lexer": "ipython3",
   "version": "3.12.5"
  }
 },
 "nbformat": 4,
 "nbformat_minor": 5
}
