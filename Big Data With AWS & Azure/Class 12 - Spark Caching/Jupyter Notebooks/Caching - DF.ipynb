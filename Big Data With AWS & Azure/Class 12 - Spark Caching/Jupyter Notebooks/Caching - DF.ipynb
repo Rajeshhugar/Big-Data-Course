{
 "cells": [
  {
   "cell_type": "code",
   "execution_count": 2,
   "id": "cb7517c5-8624-45f2-9ba1-6d22e0ac0958",
   "metadata": {},
   "outputs": [],
   "source": [
    "from pyspark.sql import SparkSession"
   ]
  },
  {
   "cell_type": "code",
   "execution_count": 3,
   "id": "6a04ab66-7b5c-4204-9a3d-1dad6bc20447",
   "metadata": {},
   "outputs": [
    {
     "ename": "NameError",
     "evalue": "name 'spark' is not defined",
     "output_type": "error",
     "traceback": [
      "\u001b[1;31m---------------------------------------------------------------------------\u001b[0m",
      "\u001b[1;31mNameError\u001b[0m                                 Traceback (most recent call last)",
      "Cell \u001b[1;32mIn[3], line 1\u001b[0m\n\u001b[1;32m----> 1\u001b[0m \u001b[43mspark\u001b[49m\u001b[38;5;241m.\u001b[39mstop()\n",
      "\u001b[1;31mNameError\u001b[0m: name 'spark' is not defined"
     ]
    }
   ],
   "source": [
    "spark.stop()"
   ]
  },
  {
   "cell_type": "code",
   "execution_count": 4,
   "id": "4511bc8b-972d-4856-9c2f-bc0519bf213d",
   "metadata": {},
   "outputs": [],
   "source": [
    "spark = SparkSession.builder \\\n",
    ".appName('DataFrame_caching_demo')\\\n",
    ".enableHiveSupport()\\\n",
    ".getOrCreate()"
   ]
  },
  {
   "cell_type": "code",
   "execution_count": 6,
   "id": "57630263-3c3d-4e22-95d1-358837305c4e",
   "metadata": {},
   "outputs": [],
   "source": [
    "customers_df= spark.read.option('header','true').csv(r\"C:\\Users\\hugar\\Desktop\\DATA_ENGINEERING\\ecommerce_data\\500MB\\customers.csv\")"
   ]
  },
  {
   "cell_type": "code",
   "execution_count": 7,
   "id": "9a548a90-62d3-443c-a450-f72fcb1f0a50",
   "metadata": {},
   "outputs": [
    {
     "name": "stdout",
     "output_type": "stream",
     "text": [
      "root\n",
      " |-- customer_id: string (nullable = true)\n",
      " |-- name: string (nullable = true)\n",
      " |-- city: string (nullable = true)\n",
      " |-- state: string (nullable = true)\n",
      " |-- country: string (nullable = true)\n",
      " |-- registration_date: string (nullable = true)\n",
      " |-- is_active: string (nullable = true)\n",
      "\n"
     ]
    }
   ],
   "source": [
    "customers_df.printSchema()"
   ]
  },
  {
   "cell_type": "code",
   "execution_count": 9,
   "id": "6bcdfe80-1496-4131-8ff9-a57038512e48",
   "metadata": {},
   "outputs": [
    {
     "data": {
      "text/html": [
       "\n",
       "            <div>\n",
       "                <p><b>SparkSession - hive</b></p>\n",
       "                \n",
       "        <div>\n",
       "            <p><b>SparkContext</b></p>\n",
       "\n",
       "            <p><a href=\"http://localhost:4041\">Spark UI</a></p>\n",
       "\n",
       "            <dl>\n",
       "              <dt>Version</dt>\n",
       "                <dd><code>v3.5.3</code></dd>\n",
       "              <dt>Master</dt>\n",
       "                <dd><code>local[*]</code></dd>\n",
       "              <dt>AppName</dt>\n",
       "                <dd><code>DataFrame_caching_demo</code></dd>\n",
       "            </dl>\n",
       "        </div>\n",
       "        \n",
       "            </div>\n",
       "        "
      ],
      "text/plain": [
       "<pyspark.sql.session.SparkSession at 0x24b96b53e00>"
      ]
     },
     "execution_count": 9,
     "metadata": {},
     "output_type": "execute_result"
    }
   ],
   "source": [
    "spark"
   ]
  },
  {
   "cell_type": "code",
   "execution_count": 8,
   "id": "0b51303f-79cb-4a21-aef1-9cf9ab8b64f6",
   "metadata": {},
   "outputs": [
    {
     "data": {
      "text/plain": [
       "8767358"
      ]
     },
     "execution_count": 8,
     "metadata": {},
     "output_type": "execute_result"
    }
   ],
   "source": [
    "customers_df.count()"
   ]
  },
  {
   "cell_type": "code",
   "execution_count": 10,
   "id": "a6e55508-036b-4aa6-908d-7430f6b46bba",
   "metadata": {},
   "outputs": [
    {
     "data": {
      "text/plain": [
       "DataFrame[customer_id: string, name: string, city: string, state: string, country: string, registration_date: string, is_active: string]"
      ]
     },
     "execution_count": 10,
     "metadata": {},
     "output_type": "execute_result"
    }
   ],
   "source": [
    "customers_df.cache() # ->customers_df.cache().show()"
   ]
  },
  {
   "cell_type": "code",
   "execution_count": 11,
   "id": "b2117347-9424-44c4-ae49-44e9a78c59ff",
   "metadata": {},
   "outputs": [
    {
     "data": {
      "text/plain": [
       "8767358"
      ]
     },
     "execution_count": 11,
     "metadata": {},
     "output_type": "execute_result"
    }
   ],
   "source": [
    "customers_df.count()"
   ]
  },
  {
   "cell_type": "markdown",
   "id": "5a4c5586-cba5-4638-addc-00e1cad80234",
   "metadata": {},
   "source": [
    "I still can't understand why did it only store first partition in customers_df, its possible we could have needed the 2nd partition or the last partition? Or this us the default behavior of saving the 1st partition? then how do we store a certain partition?"
   ]
  },
  {
   "cell_type": "code",
   "execution_count": 12,
   "id": "ee81ba04-13c7-4405-995f-a9281a0e5501",
   "metadata": {},
   "outputs": [
    {
     "name": "stdout",
     "output_type": "stream",
     "text": [
      "+-----------+----------+---------+-----------+-------+-----------------+---------+\n",
      "|customer_id|      name|     city|      state|country|registration_date|is_active|\n",
      "+-----------+----------+---------+-----------+-------+-----------------+---------+\n",
      "|          0|Customer_0|   Mumbai|  Telangana|  India|       2023-03-21|     True|\n",
      "|          1|Customer_1|  Chennai|West Bengal|  India|       2023-05-27|    False|\n",
      "|          2|Customer_2|     Pune|  Karnataka|  India|       2023-10-11|    False|\n",
      "|          3|Customer_3|Hyderabad|    Gujarat|  India|       2023-11-11|    False|\n",
      "|          4|Customer_4|   Mumbai|  Karnataka|  India|       2023-05-09|    False|\n",
      "+-----------+----------+---------+-----------+-------+-----------------+---------+\n",
      "only showing top 5 rows\n",
      "\n"
     ]
    }
   ],
   "source": [
    "customers_df.show(5)"
   ]
  },
  {
   "cell_type": "code",
   "execution_count": 13,
   "id": "57276ead-93c6-4ef1-a45c-64992bb0a9f1",
   "metadata": {},
   "outputs": [
    {
     "name": "stdout",
     "output_type": "stream",
     "text": [
      "+-----------+----------+---------+-----------+-------+-----------------+---------+\n",
      "|customer_id|      name|     city|      state|country|registration_date|is_active|\n",
      "+-----------+----------+---------+-----------+-------+-----------------+---------+\n",
      "|          0|Customer_0|   Mumbai|  Telangana|  India|       2023-03-21|     True|\n",
      "|          1|Customer_1|  Chennai|West Bengal|  India|       2023-05-27|    False|\n",
      "|          2|Customer_2|     Pune|  Karnataka|  India|       2023-10-11|    False|\n",
      "|          3|Customer_3|Hyderabad|    Gujarat|  India|       2023-11-11|    False|\n",
      "|          4|Customer_4|   Mumbai|  Karnataka|  India|       2023-05-09|    False|\n",
      "+-----------+----------+---------+-----------+-------+-----------------+---------+\n",
      "only showing top 5 rows\n",
      "\n"
     ]
    }
   ],
   "source": [
    "customers_df.show(5)"
   ]
  },
  {
   "cell_type": "code",
   "execution_count": 15,
   "id": "6089ed60-0e7a-4e07-aa2a-0aac7d6cedf2",
   "metadata": {},
   "outputs": [
    {
     "name": "stdout",
     "output_type": "stream",
     "text": [
      "+---------+---------+-----------+\n",
      "|namespace|tableName|isTemporary|\n",
      "+---------+---------+-----------+\n",
      "+---------+---------+-----------+\n",
      "\n"
     ]
    }
   ],
   "source": [
    "spark.sql('show tables').show(truncate=False)"
   ]
  },
  {
   "cell_type": "code",
   "execution_count": 14,
   "id": "3792159a-e9f5-48b1-883f-85bbb47d7c5a",
   "metadata": {},
   "outputs": [
    {
     "ename": "NameError",
     "evalue": "name 'tail_df' is not defined",
     "output_type": "error",
     "traceback": [
      "\u001b[1;31m---------------------------------------------------------------------------\u001b[0m",
      "\u001b[1;31mNameError\u001b[0m                                 Traceback (most recent call last)",
      "Cell \u001b[1;32mIn[14], line 1\u001b[0m\n\u001b[1;32m----> 1\u001b[0m \u001b[43mtail_df\u001b[49m\u001b[38;5;241m.\u001b[39munpersist()\n",
      "\u001b[1;31mNameError\u001b[0m: name 'tail_df' is not defined"
     ]
    }
   ],
   "source": [
    "tail_df.unpersist()"
   ]
  },
  {
   "cell_type": "code",
   "execution_count": 34,
   "id": "d42aba53-3124-48d9-922f-7a4db3e5d7bd",
   "metadata": {},
   "outputs": [
    {
     "data": {
      "text/plain": [
       "DataFrame[customer_id: string, name: string, city: string, state: string, country: string, registration_date: string, is_active: string]"
      ]
     },
     "execution_count": 34,
     "metadata": {},
     "output_type": "execute_result"
    }
   ],
   "source": [
    "customers_df.unpersist()"
   ]
  },
  {
   "cell_type": "code",
   "execution_count": 21,
   "id": "a56c4050-0463-44d7-b69d-bc856600a46a",
   "metadata": {},
   "outputs": [],
   "source": [
    "tail_df = customers_df.orderBy('customer_id',ascending=False)"
   ]
  },
  {
   "cell_type": "code",
   "execution_count": 22,
   "id": "9a5b31af-a3dc-47db-8192-1898d17e95df",
   "metadata": {},
   "outputs": [
    {
     "name": "stderr",
     "output_type": "stream",
     "text": [
      "[Stage 9:===============================================>           (4 + 1) / 5]\r"
     ]
    },
    {
     "name": "stdout",
     "output_type": "stream",
     "text": [
      "+-----------+---------------+---------+-----------+-------+-----------------+---------+\n",
      "|customer_id|           name|     city|      state|country|registration_date|is_active|\n",
      "+-----------+---------------+---------+-----------+-------+-----------------+---------+\n",
      "|     999999|Customer_999999|Hyderabad|  Karnataka|  India|       2023-05-30|     True|\n",
      "|     999998|Customer_999998|    Delhi|West Bengal|  India|       2023-07-21|     True|\n",
      "|     999997|Customer_999997|  Kolkata|  Karnataka|  India|       2023-04-03|     True|\n",
      "|     999996|Customer_999996|Hyderabad|Maharashtra|  India|       2023-09-03|     True|\n",
      "|     999995|Customer_999995|     Pune|    Gujarat|  India|       2023-05-03|    False|\n",
      "+-----------+---------------+---------+-----------+-------+-----------------+---------+\n",
      "only showing top 5 rows\n",
      "\n"
     ]
    },
    {
     "name": "stderr",
     "output_type": "stream",
     "text": [
      "                                                                                \r"
     ]
    }
   ],
   "source": [
    "tail_df.show(5)"
   ]
  },
  {
   "cell_type": "code",
   "execution_count": 23,
   "id": "e5dd1baa-f89c-4307-a78d-a13f2e3f783b",
   "metadata": {},
   "outputs": [
    {
     "data": {
      "text/plain": [
       "DataFrame[customer_id: string, name: string, city: string, state: string, country: string, registration_date: string, is_active: string]"
      ]
     },
     "execution_count": 23,
     "metadata": {},
     "output_type": "execute_result"
    }
   ],
   "source": [
    "tail_df.cache()"
   ]
  },
  {
   "cell_type": "code",
   "execution_count": 24,
   "id": "c6b87385-fb9e-4142-b2be-76c36f342b62",
   "metadata": {},
   "outputs": [
    {
     "name": "stderr",
     "output_type": "stream",
     "text": [
      "[Stage 11:==============================================>           (4 + 1) / 5]\r"
     ]
    },
    {
     "name": "stdout",
     "output_type": "stream",
     "text": [
      "+-----------+---------------+---------+-----------+-------+-----------------+---------+\n",
      "|customer_id|           name|     city|      state|country|registration_date|is_active|\n",
      "+-----------+---------------+---------+-----------+-------+-----------------+---------+\n",
      "|     999999|Customer_999999|Hyderabad|  Karnataka|  India|       2023-05-30|     True|\n",
      "|     999998|Customer_999998|    Delhi|West Bengal|  India|       2023-07-21|     True|\n",
      "|     999997|Customer_999997|  Kolkata|  Karnataka|  India|       2023-04-03|     True|\n",
      "|     999996|Customer_999996|Hyderabad|Maharashtra|  India|       2023-09-03|     True|\n",
      "|     999995|Customer_999995|     Pune|    Gujarat|  India|       2023-05-03|    False|\n",
      "+-----------+---------------+---------+-----------+-------+-----------------+---------+\n",
      "only showing top 5 rows\n",
      "\n"
     ]
    },
    {
     "name": "stderr",
     "output_type": "stream",
     "text": [
      "                                                                                \r"
     ]
    }
   ],
   "source": [
    "tail_df.show(5)"
   ]
  },
  {
   "cell_type": "code",
   "execution_count": 25,
   "id": "2490f227-89c0-42ce-ad71-aabf0f6bc6d3",
   "metadata": {},
   "outputs": [
    {
     "name": "stdout",
     "output_type": "stream",
     "text": [
      "+-----------+---------------+---------+-----------+-------+-----------------+---------+\n",
      "|customer_id|           name|     city|      state|country|registration_date|is_active|\n",
      "+-----------+---------------+---------+-----------+-------+-----------------+---------+\n",
      "|     999999|Customer_999999|Hyderabad|  Karnataka|  India|       2023-05-30|     True|\n",
      "|     999998|Customer_999998|    Delhi|West Bengal|  India|       2023-07-21|     True|\n",
      "|     999997|Customer_999997|  Kolkata|  Karnataka|  India|       2023-04-03|     True|\n",
      "|     999996|Customer_999996|Hyderabad|Maharashtra|  India|       2023-09-03|     True|\n",
      "|     999995|Customer_999995|     Pune|    Gujarat|  India|       2023-05-03|    False|\n",
      "+-----------+---------------+---------+-----------+-------+-----------------+---------+\n",
      "only showing top 5 rows\n",
      "\n"
     ]
    }
   ],
   "source": [
    "tail_df.show(5)"
   ]
  },
  {
   "cell_type": "code",
   "execution_count": 38,
   "id": "cf382862-64fb-4813-a812-07f81578ff5a",
   "metadata": {},
   "outputs": [],
   "source": [
    "spark.stop()"
   ]
  }
 ],
 "metadata": {
  "kernelspec": {
   "display_name": "Spark",
   "language": "python",
   "name": "pyspark"
  },
  "language_info": {
   "codemirror_mode": {
    "name": "ipython",
    "version": 3
   },
   "file_extension": ".py",
   "mimetype": "text/x-python",
   "name": "python",
   "nbconvert_exporter": "python",
   "pygments_lexer": "ipython3",
   "version": "3.12.5"
  }
 },
 "nbformat": 4,
 "nbformat_minor": 5
}
