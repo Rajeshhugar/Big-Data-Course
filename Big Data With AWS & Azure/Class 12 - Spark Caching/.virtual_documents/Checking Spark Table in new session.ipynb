from pyspark.sql import SparkSession

# Start a new session (same application)
spark = SparkSession.builder \
    .appName("TableVerification") \
    .enableHiveSupport() \
    .getOrCreate()



sparn_new = spark.newSession()


sparn_new



# ❌ Temporary Table should NOT exist
print("### Querying Temporary Table (Should Fail) ###")
try:
    sparn_new.sql("SELECT * FROM temp_customers").show()
except Exception as e:
    print("Temporary Table is not accessible in a new session!")



sparn_new



# ✅ Global Temporary Table should exist
print("### Querying Global Temporary Table ###")
spark.sql("SELECT * FROM global_temp.global_customers").show()





print("### Querying Global Temporary Table ###")
sparn_new.sql("SHOW TABLES IN global_temp").show()


# ✅ Persistent Table should exist
print("### Querying Persistent Table ###")
sparn_new.sql("SELECT * FROM customers_persistent").show()


sparn_new.sql('show tables').show()


sparn_new.stop()
